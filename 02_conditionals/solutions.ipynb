{
 "cells": [
  {
   "cell_type": "markdown",
   "id": "ae147b72",
   "metadata": {},
   "source": [
    "# Solutions"
   ]
  },
  {
   "cell_type": "markdown",
   "id": "be3324a1",
   "metadata": {},
   "source": [
    "## 1. Age Group Categorization"
   ]
  },
  {
   "cell_type": "markdown",
   "id": "722b6006",
   "metadata": {},
   "source": [
    "Classify a person's age group: Child (< 13), Teenager (13-19), Adult (20-59), Senior (60+)."
   ]
  },
  {
   "cell_type": "code",
   "execution_count": 3,
   "id": "b6ee8e07",
   "metadata": {},
   "outputs": [
    {
     "name": "stdout",
     "output_type": "stream",
     "text": [
      "Child\n"
     ]
    }
   ],
   "source": [
    "user_age = int(input(\"Please enter your age: \"))\n",
    "\n",
    "if user_age >= 60:\n",
    "    print(\"Senior\")\n",
    "elif user_age >= 20:\n",
    "    print(\"Adult\")\n",
    "elif user_age >= 13:\n",
    "    print(\"Teenager\")\n",
    "else:\n",
    "    print(\"Child\")"
   ]
  },
  {
   "cell_type": "markdown",
   "id": "b209d2f0",
   "metadata": {},
   "source": [
    "## 2. Movie Ticket Pricing"
   ]
  },
  {
   "cell_type": "markdown",
   "id": "686e5108",
   "metadata": {},
   "source": [
    "Problem: Movie tickets are priced based on age: $12 for adults (18 and over), $8 for children. Everyone gets a $2 discount on Wednesday."
   ]
  },
  {
   "cell_type": "code",
   "execution_count": 9,
   "id": "24f2f696",
   "metadata": {},
   "outputs": [
    {
     "name": "stdout",
     "output_type": "stream",
     "text": [
      "Price of the ticket is $8\n"
     ]
    }
   ],
   "source": [
    "age = int(input(\"Please enter your age: \"))\n",
    "day = input(\"Name the day of the week: \").lower()\n",
    "price = 12 if age >= 18 else 8\n",
    "\n",
    "if day == 'wednesday':\n",
    "    price -=  2\n",
    "    print(f\"Price of the ticket is ${price}\")\n",
    "else:\n",
    "    print(f\"Price of the ticket is ${price}\")"
   ]
  },
  {
   "cell_type": "markdown",
   "id": "dc24b4b7",
   "metadata": {},
   "source": [
    "## 3. Grade Calculator"
   ]
  },
  {
   "cell_type": "markdown",
   "id": "f279df4b",
   "metadata": {},
   "source": [
    "Problem: Assign a letter grade based on a student's score: A (90-100), B (80-89), C (70-79), D (60-69), F (below 60)."
   ]
  },
  {
   "cell_type": "code",
   "execution_count": 1,
   "id": "0d4bc80d",
   "metadata": {},
   "outputs": [
    {
     "name": "stdout",
     "output_type": "stream",
     "text": [
      "You have received a grade of C\n"
     ]
    }
   ],
   "source": [
    "mark = int(input(\"Enter your mark: \"))\n",
    "\n",
    "if mark > 100:\n",
    "    print(\"Check your grades once again\")\n",
    "    exit()\n",
    "elif mark >= 90:\n",
    "    grade = 'A'\n",
    "elif mark >= 80:\n",
    "    grade = 'B'\n",
    "elif mark >= 70:\n",
    "    grade = 'C'\n",
    "elif mark > 60:\n",
    "    grade = 'D'\n",
    "else:\n",
    "    grade = 'F'\n",
    "\n",
    "print(f\"You have received a grade of {grade}\")"
   ]
  },
  {
   "cell_type": "markdown",
   "id": "9d14f33e",
   "metadata": {},
   "source": [
    "## 4. Fruit Ripeness Checker"
   ]
  },
  {
   "cell_type": "markdown",
   "id": "2eadf450",
   "metadata": {},
   "source": [
    "Problem: Determine if a fruit is ripe, overripe, or unripe based on its color. (e.g., Banana: Green - Unripe, Yellow - Ripe, Brown - Overripe)"
   ]
  },
  {
   "cell_type": "code",
   "execution_count": 4,
   "id": "2d00b2d8",
   "metadata": {},
   "outputs": [
    {
     "name": "stdout",
     "output_type": "stream",
     "text": [
      "unripe\n"
     ]
    }
   ],
   "source": [
    "fruit = input(\"Enter fruit name: \").lower()\n",
    "color = input(\"Enter colour of the fruit: \").lower()\n",
    "\n",
    "if fruit == \"banana\":\n",
    "    if color == \"green\":\n",
    "        print(\"unripe\")\n",
    "    elif color == \"yellow\":\n",
    "        print(\"ripe\")\n",
    "    elif color == \"brown\":\n",
    "        print(\"Over ripe\")\n",
    "else:\n",
    "    print(f\"Sorry, I do not have information about {fruit} as of now. Please comeback later\")"
   ]
  },
  {
   "cell_type": "markdown",
   "id": "a9a1e455",
   "metadata": {},
   "source": [
    "## 5. Weather Activity Suggestion"
   ]
  },
  {
   "cell_type": "markdown",
   "metadata": {},
   "source": [
    "Problem: Suggest an activity based on the weather (e.g., Sunny - Go for a walk, Rainy - Read a book, Snowy - Build a snowman)."
   ]
  },
  {
   "cell_type": "code",
   "execution_count": 5,
   "id": "2660386f",
   "metadata": {},
   "outputs": [
    {
     "name": "stdout",
     "output_type": "stream",
     "text": [
      "Build a snowman\n"
     ]
    }
   ],
   "source": [
    "weather = input(\"Tell us if the present weather is Sunny, Rainy or Snowy?: \").lower()\n",
    "\n",
    "if weather == \"sunny\":\n",
    "    activity = \"Go for a walk\"\n",
    "elif weather == \"rainy\":\n",
    "    activity = \"Read a book\"\n",
    "elif weather == \"snowy\":\n",
    "    activity = \"Build a snowman\"\n",
    "\n",
    "print(activity)"
   ]
  },
  {
   "cell_type": "markdown",
   "id": "bd45dac7",
   "metadata": {},
   "source": [
    "## 6. Transportation Mode Selection"
   ]
  },
  {
   "cell_type": "markdown",
   "id": "66ab495c",
   "metadata": {},
   "source": [
    "Problem: Choose a mode of transportation based on the distance (e.g., <3 km: Walk, 3-15 km: Bike, >15 km: Car)."
   ]
  },
  {
   "cell_type": "code",
   "execution_count": 6,
   "id": "7cc6e388",
   "metadata": {},
   "outputs": [
    {
     "name": "stdout",
     "output_type": "stream",
     "text": [
      "AI recommends you the transport of:  Car\n"
     ]
    }
   ],
   "source": [
    "distance = int(input(\"How far are you supposed to go? \"))\n",
    "\n",
    "if distance < 3:\n",
    "    transport = \"Walk\"\n",
    "elif distance <= 15:\n",
    "    transport = \"Bike\"\n",
    "else:\n",
    "    transport = \"Car\"\n",
    "\n",
    "print(\"AI recommends you the transport of: \", transport)"
   ]
  },
  {
   "cell_type": "markdown",
   "id": "4c1082b1",
   "metadata": {},
   "source": [
    "## 7. Coffee Customization"
   ]
  },
  {
   "cell_type": "markdown",
   "id": "0d07171d",
   "metadata": {},
   "source": [
    "Problem: Customize a coffee order: \"Small\", \"Medium\", or \"Large\" with an option for \"Extra shot\" of espresso."
   ]
  },
  {
   "cell_type": "code",
   "execution_count": 12,
   "id": "10acd9b6",
   "metadata": {},
   "outputs": [
    {
     "name": "stdout",
     "output_type": "stream",
     "text": [
      "Order:  Medium coffee with an extra shot\n"
     ]
    }
   ],
   "source": [
    "order_size = input(\"What is your order size? \")\n",
    "extra_shot = bool(input(\"Enter 'True' if you need extra shot else enter 'False'\"))\n",
    "\n",
    "if extra_shot:\n",
    "    coffee = order_size + \" coffee with an extra shot\"\n",
    "else:\n",
    "    coffee = order_size + \" coffee\"\n",
    "\n",
    "print(\"Order: \", coffee)"
   ]
  },
  {
   "cell_type": "markdown",
   "id": "4a24bbab",
   "metadata": {},
   "source": [
    "## 8. Password Strength Checker"
   ]
  },
  {
   "cell_type": "markdown",
   "id": "f6a544da",
   "metadata": {},
   "source": [
    "Problem: Check if a password is \"Weak\", \"Medium\", or \"Strong\". Criteria: < 6 chars (Weak), 6-10 chars (Medium), >10 chars (Strong)."
   ]
  },
  {
   "cell_type": "code",
   "execution_count": 14,
   "id": "03cd3c18",
   "metadata": {},
   "outputs": [
    {
     "name": "stdout",
     "output_type": "stream",
     "text": [
      "Password strength is:  Strong\n"
     ]
    }
   ],
   "source": [
    "password = input(\"Entre your password: \")\n",
    "password_length = len(password)\n",
    "\n",
    "if password_length < 6:\n",
    "    strength = \"Weak\"\n",
    "elif password_length <= 10:\n",
    "    strength = \"Medium\"\n",
    "else:\n",
    "    strength = \"Strong\"\n",
    "\n",
    "print(\"Password strength is: \", strength)"
   ]
  },
  {
   "cell_type": "markdown",
   "id": "988b1c94",
   "metadata": {},
   "source": [
    "## 9. Leap Year Checker"
   ]
  },
  {
   "cell_type": "markdown",
   "id": "d011abf5",
   "metadata": {},
   "source": [
    "Problem: Determine if a year is a leap year. (Leap years are divisible by 4, but not by 100 unless also divisible by 400)."
   ]
  },
  {
   "cell_type": "code",
   "execution_count": 15,
   "id": "cabe2ed6",
   "metadata": {},
   "outputs": [
    {
     "name": "stdout",
     "output_type": "stream",
     "text": [
      "2024  is a leap year\n"
     ]
    }
   ],
   "source": [
    "year = int(input(\"Enter a year: \"))\n",
    "\n",
    "if (year % 400 == 0) or (year % 4 == 0 and year % 100 != 0):\n",
    "    print( year, \" is a leap year\")\n",
    "else:\n",
    "    print(year, \"is NOT a leap year\")"
   ]
  },
  {
   "cell_type": "markdown",
   "id": "d46d3c91",
   "metadata": {},
   "source": [
    "## 10. Pet Food Recommendation"
   ]
  },
  {
   "cell_type": "markdown",
   "id": "bc939bd8",
   "metadata": {},
   "source": [
    "Problem: Recommend a type of pet food based on the pet's species and age. (e.g., Dog: <2 years - Puppy food, Cat: >5 years - Senior cat food)."
   ]
  },
  {
   "cell_type": "code",
   "execution_count": 17,
   "id": "2567703d",
   "metadata": {},
   "outputs": [
    {
     "name": "stdout",
     "output_type": "stream",
     "text": [
      "Your cat should be fed with Senior cat food\n"
     ]
    }
   ],
   "source": [
    "pet = input(\"What type of per do you have? \").lower()\n",
    "age = int(input())\n",
    "\n",
    "if pet == 'dog' and age < 2:\n",
    "    food = 'Puppy food'\n",
    "elif pet == 'cat' and age > 5:\n",
    "    food = 'Senior cat food'\n",
    "else:\n",
    "    print(\"sorry, we do not have the information about this in our database\")\n",
    "\n",
    "print(f\"Your {pet} should be fed with {food}\")"
   ]
  }
 ],
 "metadata": {
  "kernelspec": {
   "display_name": "venv",
   "language": "python",
   "name": "python3"
  },
  "language_info": {
   "codemirror_mode": {
    "name": "ipython",
    "version": 3
   },
   "file_extension": ".py",
   "mimetype": "text/x-python",
   "name": "python",
   "nbconvert_exporter": "python",
   "pygments_lexer": "ipython3",
   "version": "3.11.9"
  }
 },
 "nbformat": 4,
 "nbformat_minor": 5
}
