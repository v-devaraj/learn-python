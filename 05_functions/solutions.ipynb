{
 "cells": [
  {
   "cell_type": "markdown",
   "id": "fb239efc",
   "metadata": {},
   "source": [
    "# Solutions"
   ]
  },
  {
   "cell_type": "markdown",
   "id": "5543ac59",
   "metadata": {},
   "source": [
    "## 1. Basic Function Syntax"
   ]
  },
  {
   "cell_type": "markdown",
   "id": "9f4bb753",
   "metadata": {},
   "source": [
    "Problem: Write a function to calculate and return the square of a number."
   ]
  },
  {
   "cell_type": "code",
   "execution_count": 2,
   "id": "1c94a398",
   "metadata": {},
   "outputs": [
    {
     "data": {
      "text/plain": [
       "9"
      ]
     },
     "execution_count": 2,
     "metadata": {},
     "output_type": "execute_result"
    }
   ],
   "source": [
    "def square_of_num(n):\n",
    "    return n ** 2\n",
    "\n",
    "square_of_num(3)"
   ]
  },
  {
   "cell_type": "markdown",
   "id": "4da42b84",
   "metadata": {},
   "source": [
    "## 2. Function with Multiple Parameters"
   ]
  },
  {
   "cell_type": "markdown",
   "id": "34ad9a97",
   "metadata": {},
   "source": [
    "Problem: Create a function that takes two numbers as parameters and returns their sum."
   ]
  },
  {
   "cell_type": "code",
   "execution_count": 3,
   "id": "06287aa9",
   "metadata": {},
   "outputs": [
    {
     "data": {
      "text/plain": [
       "7"
      ]
     },
     "execution_count": 3,
     "metadata": {},
     "output_type": "execute_result"
    }
   ],
   "source": [
    "def custom_sum(num1, num2):\n",
    "    return num1 + num2\n",
    "\n",
    "custom_sum(2, 5)"
   ]
  },
  {
   "cell_type": "markdown",
   "id": "5b25c6fc",
   "metadata": {},
   "source": [
    "## 3. Polymorphism in Functions"
   ]
  },
  {
   "cell_type": "markdown",
   "id": "492520b2",
   "metadata": {},
   "source": [
    "Problem: Write a function multiply that multiplies two numbers, but can also accept and multiply strings."
   ]
  },
  {
   "cell_type": "code",
   "execution_count": 6,
   "id": "e0782b04",
   "metadata": {},
   "outputs": [
    {
     "name": "stdout",
     "output_type": "stream",
     "text": [
      "12\n",
      "abcabc\n",
      "abcabc\n"
     ]
    }
   ],
   "source": [
    "def multiply(a, b):\n",
    "    return a * b\n",
    "\n",
    "print(multiply(3, 4))\n",
    "print(multiply('abc', 2))\n",
    "print(multiply(2, 'abc'))"
   ]
  },
  {
   "cell_type": "markdown",
   "id": "beca190b",
   "metadata": {},
   "source": [
    "## 4. Function Returning Multiple Values"
   ]
  },
  {
   "cell_type": "markdown",
   "id": "39e57e74",
   "metadata": {},
   "source": [
    "Problem: Create a function that returns both the area and circumference of a circle given its radius."
   ]
  },
  {
   "cell_type": "code",
   "execution_count": 12,
   "id": "ceba0ef9",
   "metadata": {},
   "outputs": [
    {
     "name": "stdout",
     "output_type": "stream",
     "text": [
      "Area of the circle is 153.94 and it's circumference is 43.98\n"
     ]
    }
   ],
   "source": [
    "import math\n",
    "def circle_stats(r):\n",
    "    area = round(math.pi * (r ** 2), 2)\n",
    "    circumference = round(2 * math.pi * r, 2)\n",
    "    return area, circumference\n",
    "\n",
    "area, circumference = circle_stats(7)\n",
    "print(f\"Area of the circle is {area} and it's circumference is {circumference}\")"
   ]
  },
  {
   "cell_type": "markdown",
   "id": "64dddaa8",
   "metadata": {},
   "source": [
    "## 5. Default Parameter Value"
   ]
  },
  {
   "cell_type": "markdown",
   "id": "6126cb5d",
   "metadata": {},
   "source": [
    "Problem: Write a function that greets a user. If no name is provided, it should greet with a default name."
   ]
  },
  {
   "cell_type": "code",
   "execution_count": 13,
   "id": "b2712a09",
   "metadata": {},
   "outputs": [
    {
     "data": {
      "text/plain": [
       "'Hi Dude, how are you doing?'"
      ]
     },
     "execution_count": 13,
     "metadata": {},
     "output_type": "execute_result"
    }
   ],
   "source": [
    "def greet(name = 'Dude'):\n",
    "    return f\"Hi {name}, how are you doing?\"\n",
    "\n",
    "greet()"
   ]
  },
  {
   "cell_type": "markdown",
   "id": "ff874d3f",
   "metadata": {},
   "source": [
    "## 6. Lambda Function"
   ]
  },
  {
   "cell_type": "markdown",
   "id": "4fa753f0",
   "metadata": {},
   "source": [
    "Problem: Create a lambda function to compute the cube of a number."
   ]
  },
  {
   "cell_type": "code",
   "execution_count": 16,
   "id": "c6fc949c",
   "metadata": {},
   "outputs": [
    {
     "name": "stdout",
     "output_type": "stream",
     "text": [
      "64\n"
     ]
    }
   ],
   "source": [
    "cube = lambda x: x ** 3\n",
    "print(cube(4))"
   ]
  },
  {
   "cell_type": "markdown",
   "id": "3254bb42",
   "metadata": {},
   "source": [
    "## 7. Function with *args"
   ]
  },
  {
   "cell_type": "markdown",
   "id": "d41055fa",
   "metadata": {},
   "source": [
    "Problem: Write a function that takes variable number of arguments and returns their sum."
   ]
  },
  {
   "cell_type": "code",
   "execution_count": 17,
   "id": "9a7d8326",
   "metadata": {},
   "outputs": [
    {
     "data": {
      "text/plain": [
       "6"
      ]
     },
     "execution_count": 17,
     "metadata": {},
     "output_type": "execute_result"
    }
   ],
   "source": [
    "def sum_of_nums(*args):\n",
    "    return sum(args)\n",
    "\n",
    "sum_of_nums(1, 2, 3)"
   ]
  },
  {
   "cell_type": "markdown",
   "id": "c4aec848",
   "metadata": {},
   "source": [
    "- further investigative study is done below:"
   ]
  },
  {
   "cell_type": "code",
   "execution_count": 20,
   "id": "cf8e080d",
   "metadata": {},
   "outputs": [
    {
     "ename": "SyntaxError",
     "evalue": "f-string: cannot use starred expression here (3335780104.py, line 2)",
     "output_type": "error",
     "traceback": [
      "  \u001b[36mCell\u001b[39m\u001b[36m \u001b[39m\u001b[32mIn[20]\u001b[39m\u001b[32m, line 2\u001b[39m\n\u001b[31m    \u001b[39m\u001b[31mprint(f\"*args -> {*args}\")\u001b[39m\n    ^\n\u001b[31mSyntaxError\u001b[39m\u001b[31m:\u001b[39m f-string: cannot use starred expression here\n"
     ]
    }
   ],
   "source": [
    "def sum_of_nums(*args):\n",
    "    print(f\"*args -> {*args}\")\n",
    "    return sum(args)\n",
    "\n",
    "sum_of_nums(1, 2, 3)"
   ]
  },
  {
   "cell_type": "code",
   "execution_count": 21,
   "id": "e5335c15",
   "metadata": {},
   "outputs": [
    {
     "name": "stdout",
     "output_type": "stream",
     "text": [
      "args -> (1, 2, 3)\n"
     ]
    },
    {
     "data": {
      "text/plain": [
       "6"
      ]
     },
     "execution_count": 21,
     "metadata": {},
     "output_type": "execute_result"
    }
   ],
   "source": [
    "def sum_of_nums(*args):\n",
    "    print(f\"args -> {args}\")\n",
    "    return sum(args)\n",
    "\n",
    "sum_of_nums(1, 2, 3)"
   ]
  },
  {
   "cell_type": "markdown",
   "id": "1d0c36bf",
   "metadata": {},
   "source": [
    "- this means that '*' gives the ability to intake multiple parameters in the function.\n",
    "- and also note that all the parameters are together in taken as a tuple.\n",
    "- In that case, we should be able to run a loop and do some actions on the individual elements righ? \n",
    "- Let us try this out"
   ]
  },
  {
   "cell_type": "code",
   "execution_count": 27,
   "id": "e80578bc",
   "metadata": {},
   "outputs": [
    {
     "name": "stdout",
     "output_type": "stream",
     "text": [
      "args -> (1, 2, 3)\n",
      "3\n",
      "element no 0 in the given input is 1\n",
      "element no 1 in the given input is 2\n",
      "element no 2 in the given input is 3\n"
     ]
    }
   ],
   "source": [
    "def sum_of_nums(*args):\n",
    "    print(f\"args -> {args}\")\n",
    "\n",
    "    print(len(args))\n",
    "\n",
    "    for i in range(len(args)):\n",
    "        print(f\"element no {i} in the given input is {args[i]}\")\n",
    "\n",
    "sum_of_nums(1, 2, 3)"
   ]
  },
  {
   "cell_type": "code",
   "execution_count": 29,
   "id": "bb3b339c",
   "metadata": {},
   "outputs": [
    {
     "data": {
      "text/plain": [
       "21"
      ]
     },
     "execution_count": 29,
     "metadata": {},
     "output_type": "execute_result"
    }
   ],
   "source": [
    "def sum_of_nums(*args):\n",
    "    sum = 0\n",
    "    for i in args:\n",
    "        sum += i\n",
    "    return sum\n",
    "\n",
    "sum_of_nums(1, 2, 3, 4, 5, 6)"
   ]
  },
  {
   "cell_type": "markdown",
   "id": "2d4346d7",
   "metadata": {},
   "source": [
    "## 8. Function with **kwargs"
   ]
  },
  {
   "cell_type": "markdown",
   "id": "8fed887e",
   "metadata": {},
   "source": [
    "Problem: Create a function that accepts any number of keyword arguments and prints them in the format key: value."
   ]
  },
  {
   "cell_type": "code",
   "execution_count": 31,
   "id": "79e691e1",
   "metadata": {},
   "outputs": [
    {
     "name": "stdout",
     "output_type": "stream",
     "text": [
      "{'name': 'Shaktiman', 'power': 'lazer'}\n"
     ]
    }
   ],
   "source": [
    "def custom_kwargs(**kwargs):\n",
    "    print(kwargs)\n",
    "\n",
    "custom_kwargs(name = 'Shaktiman',\n",
    "             power = 'lazer')"
   ]
  },
  {
   "cell_type": "code",
   "execution_count": 33,
   "id": "55f08d81",
   "metadata": {},
   "outputs": [
    {
     "name": "stdout",
     "output_type": "stream",
     "text": [
      "Complete input is given below \n",
      " {'name': 'Shaktiman', 'power': 'lazer', 'enemy': 'Dr. Jackkal'} \n",
      "\n",
      "name -> Shaktiman\n",
      "power -> lazer\n",
      "enemy -> Dr. Jackkal\n"
     ]
    }
   ],
   "source": [
    "def custom_kwargs(**kwargs):\n",
    "    print(f'Complete input is given below', \"\\n\", kwargs, \"\\n\")\n",
    "    \n",
    "    for key, value in kwargs.items():\n",
    "        print(f\"{key} -> {value}\")\n",
    "    \n",
    "\n",
    "custom_kwargs(name = 'Shaktiman',\n",
    "             power = 'lazer',\n",
    "             enemy = 'Dr. Jackkal')"
   ]
  },
  {
   "cell_type": "code",
   "execution_count": null,
   "id": "c5dc119f",
   "metadata": {},
   "outputs": [],
   "source": []
  },
  {
   "cell_type": "markdown",
   "id": "02237904",
   "metadata": {},
   "source": [
    "## 9. Generator Function with yield"
   ]
  },
  {
   "cell_type": "markdown",
   "id": "0085a2c4",
   "metadata": {},
   "source": [
    "Problem: Write a generator function that yields even numbers up to a specified limit."
   ]
  },
  {
   "cell_type": "markdown",
   "id": "9f9ce6ee",
   "metadata": {},
   "source": [
    "- while trying to understand yield, thik about it from the perspective of the memory."
   ]
  },
  {
   "cell_type": "code",
   "execution_count": 36,
   "id": "49a8ef23",
   "metadata": {},
   "outputs": [
    {
     "name": "stdout",
     "output_type": "stream",
     "text": [
      "2\n",
      "4\n",
      "6\n",
      "8\n",
      "10\n"
     ]
    }
   ],
   "source": [
    "def even_generator(limit):\n",
    "    for i in range(2, limit + 1, 2):\n",
    "        print(i)\n",
    "\n",
    "even_generator(10)"
   ]
  },
  {
   "cell_type": "markdown",
   "id": "f0df52ca",
   "metadata": {},
   "source": [
    "- but we need to return inside the function, so that we can use it later."
   ]
  },
  {
   "cell_type": "code",
   "execution_count": 37,
   "id": "f46c7532",
   "metadata": {},
   "outputs": [
    {
     "data": {
      "text/plain": [
       "2"
      ]
     },
     "execution_count": 37,
     "metadata": {},
     "output_type": "execute_result"
    }
   ],
   "source": [
    "def even_generator(limit):\n",
    "    for i in range(2, limit + 1, 2):\n",
    "        return i\n",
    "\n",
    "even_generator(10)"
   ]
  },
  {
   "cell_type": "markdown",
   "id": "fec97cb6",
   "metadata": {},
   "source": [
    "- but there is a problem here, the above function will end as soon as it returns the first element."
   ]
  },
  {
   "cell_type": "code",
   "execution_count": 44,
   "id": "5ced97d4",
   "metadata": {},
   "outputs": [
    {
     "data": {
      "text/plain": [
       "[2, 4, 6, 8, 10]"
      ]
     },
     "execution_count": 44,
     "metadata": {},
     "output_type": "execute_result"
    }
   ],
   "source": [
    "def even_generator(limit):\n",
    "    li = []\n",
    "    for i in range(2, limit + 1, 2):\n",
    "        li.append(i)    \n",
    "    return li\n",
    "\n",
    "even_generator(10)"
   ]
  },
  {
   "cell_type": "markdown",
   "id": "08822449",
   "metadata": {},
   "source": [
    "- but this is giving a list, which is not something which we are looking for.\n",
    "- so, we need to go for a new concept called **yield**, so that we understnad everything nicely."
   ]
  },
  {
   "cell_type": "code",
   "execution_count": 40,
   "id": "2b506270",
   "metadata": {},
   "outputs": [
    {
     "data": {
      "text/plain": [
       "<generator object even_generator at 0x000002B9C1083140>"
      ]
     },
     "execution_count": 40,
     "metadata": {},
     "output_type": "execute_result"
    }
   ],
   "source": [
    "def even_generator(limit):\n",
    "    for i in range(2, limit + 1, 2):\n",
    "        yield i\n",
    "\n",
    "even_generator(10)"
   ]
  },
  {
   "cell_type": "markdown",
   "id": "46024257",
   "metadata": {},
   "source": [
    "- we are king of almost there, but still not completely.\n",
    "- Let us try a different one"
   ]
  },
  {
   "cell_type": "code",
   "execution_count": 42,
   "id": "aa63bf29",
   "metadata": {},
   "outputs": [
    {
     "name": "stdout",
     "output_type": "stream",
     "text": [
      "2\n",
      "4\n",
      "6\n",
      "8\n",
      "10\n"
     ]
    }
   ],
   "source": [
    "def even_generator(limit):\n",
    "    for i in range(2, limit + 1, 2):\n",
    "        yield i\n",
    "\n",
    "for num in even_generator(10):\n",
    "    print(num)"
   ]
  },
  {
   "cell_type": "markdown",
   "id": "f1535e76",
   "metadata": {},
   "source": [
    "- here the 'for' loop runs and everytime the even_generator function is called and that function generates a number. But it has to be different from 'return', because 'return' will end it.\n",
    "- So during the first running of this 'for' loop, even_generator function is called and and this function generates one number which is returned and print in the for loop.\n",
    "- now in the second loop, again the function call happens, and this time inside the function, the 'yield' has noted that earlier it gave 2 and hence it will now give 4, and it gets printed within the for loop.\n",
    "- and this whole process continues till the end."
   ]
  },
  {
   "cell_type": "code",
   "execution_count": null,
   "id": "387ccfc9",
   "metadata": {},
   "outputs": [],
   "source": []
  },
  {
   "cell_type": "markdown",
   "id": "80d72c4a",
   "metadata": {},
   "source": [
    "## 10. Recursive Function"
   ]
  },
  {
   "cell_type": "markdown",
   "id": "7413ea7d",
   "metadata": {},
   "source": [
    "Problem: Create a recursive function to calculate the factorial of a number."
   ]
  },
  {
   "cell_type": "code",
   "execution_count": 48,
   "id": "c7f7bbcb",
   "metadata": {},
   "outputs": [
    {
     "data": {
      "text/plain": [
       "120"
      ]
     },
     "execution_count": 48,
     "metadata": {},
     "output_type": "execute_result"
    }
   ],
   "source": [
    "def custom_factorial(n):\n",
    "    if n == 1:\n",
    "        return 1\n",
    "    else:\n",
    "        return n * custom_factorial(n-1)\n",
    "\n",
    "custom_factorial(5)"
   ]
  }
 ],
 "metadata": {
  "kernelspec": {
   "display_name": "venv",
   "language": "python",
   "name": "python3"
  },
  "language_info": {
   "codemirror_mode": {
    "name": "ipython",
    "version": 3
   },
   "file_extension": ".py",
   "mimetype": "text/x-python",
   "name": "python",
   "nbconvert_exporter": "python",
   "pygments_lexer": "ipython3",
   "version": "3.11.9"
  }
 },
 "nbformat": 4,
 "nbformat_minor": 5
}
