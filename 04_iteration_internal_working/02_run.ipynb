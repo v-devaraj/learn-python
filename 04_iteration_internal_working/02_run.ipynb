{
 "cells": [
  {
   "cell_type": "markdown",
   "id": "b87fd038",
   "metadata": {},
   "source": [
    "# Internal working of loops"
   ]
  },
  {
   "cell_type": "markdown",
   "id": "bcc24a48",
   "metadata": {},
   "source": [
    "## Iteration and File"
   ]
  },
  {
   "cell_type": "markdown",
   "id": "d2842e7a",
   "metadata": {},
   "source": [
    "### Method 1- .readline()"
   ]
  },
  {
   "cell_type": "code",
   "execution_count": 23,
   "id": "0e35e014",
   "metadata": {},
   "outputs": [],
   "source": [
    "f = open(r'C:\\Users\\devar\\Documents\\VS Code\\learn-python\\04_iteration_tools\\01_test.py')"
   ]
  },
  {
   "cell_type": "code",
   "execution_count": 24,
   "id": "78c0445d",
   "metadata": {},
   "outputs": [
    {
     "data": {
      "text/plain": [
       "'import time\\n'"
      ]
     },
     "execution_count": 24,
     "metadata": {},
     "output_type": "execute_result"
    }
   ],
   "source": [
    "# reads each line of the imported file:\n",
    "f.readline()"
   ]
  },
  {
   "cell_type": "code",
   "execution_count": 25,
   "id": "521a3212",
   "metadata": {},
   "outputs": [
    {
     "data": {
      "text/plain": [
       "'print(\"How are you?\")\\n'"
      ]
     },
     "execution_count": 25,
     "metadata": {},
     "output_type": "execute_result"
    }
   ],
   "source": [
    "f.readline()"
   ]
  },
  {
   "cell_type": "code",
   "execution_count": 26,
   "id": "20b3de19",
   "metadata": {},
   "outputs": [
    {
     "data": {
      "text/plain": [
       "\"username = 'Dev'\\n\""
      ]
     },
     "execution_count": 26,
     "metadata": {},
     "output_type": "execute_result"
    }
   ],
   "source": [
    "f.readline()"
   ]
  },
  {
   "cell_type": "code",
   "execution_count": 27,
   "id": "1d877a08",
   "metadata": {},
   "outputs": [
    {
     "data": {
      "text/plain": [
       "'print(username)'"
      ]
     },
     "execution_count": 27,
     "metadata": {},
     "output_type": "execute_result"
    }
   ],
   "source": [
    "f.readline()"
   ]
  },
  {
   "cell_type": "markdown",
   "id": "2cce9c2c",
   "metadata": {},
   "source": [
    "### Method 2- __next__()"
   ]
  },
  {
   "cell_type": "code",
   "execution_count": 29,
   "id": "706ffe23",
   "metadata": {},
   "outputs": [],
   "source": [
    "f = open(r'C:\\Users\\devar\\Documents\\VS Code\\learn-python\\04_iteration_tools\\01_test.py')"
   ]
  },
  {
   "cell_type": "code",
   "execution_count": 30,
   "id": "d9e85d72",
   "metadata": {},
   "outputs": [
    {
     "data": {
      "text/plain": [
       "'import time\\n'"
      ]
     },
     "execution_count": 30,
     "metadata": {},
     "output_type": "execute_result"
    }
   ],
   "source": [
    "f.__next__()"
   ]
  },
  {
   "cell_type": "code",
   "execution_count": 31,
   "id": "b2b9c114",
   "metadata": {},
   "outputs": [
    {
     "data": {
      "text/plain": [
       "'print(\"How are you?\")\\n'"
      ]
     },
     "execution_count": 31,
     "metadata": {},
     "output_type": "execute_result"
    }
   ],
   "source": [
    "f.__next__()"
   ]
  },
  {
   "cell_type": "code",
   "execution_count": 32,
   "id": "bf18ccd4",
   "metadata": {},
   "outputs": [
    {
     "data": {
      "text/plain": [
       "\"username = 'Dev'\\n\""
      ]
     },
     "execution_count": 32,
     "metadata": {},
     "output_type": "execute_result"
    }
   ],
   "source": [
    "f.__next__()"
   ]
  },
  {
   "cell_type": "code",
   "execution_count": 33,
   "id": "3f9734e6",
   "metadata": {},
   "outputs": [
    {
     "data": {
      "text/plain": [
       "'print(username)'"
      ]
     },
     "execution_count": 33,
     "metadata": {},
     "output_type": "execute_result"
    }
   ],
   "source": [
    "f.__next__()"
   ]
  },
  {
   "cell_type": "code",
   "execution_count": 35,
   "id": "60f19f9f",
   "metadata": {},
   "outputs": [
    {
     "ename": "StopIteration",
     "evalue": "",
     "output_type": "error",
     "traceback": [
      "\u001b[31m---------------------------------------------------------------------------\u001b[39m",
      "\u001b[31mStopIteration\u001b[39m                             Traceback (most recent call last)",
      "\u001b[36mCell\u001b[39m\u001b[36m \u001b[39m\u001b[32mIn[35]\u001b[39m\u001b[32m, line 1\u001b[39m\n\u001b[32m----> \u001b[39m\u001b[32m1\u001b[39m \u001b[43mf\u001b[49m\u001b[43m.\u001b[49m\u001b[34;43m__next__\u001b[39;49m\u001b[43m(\u001b[49m\u001b[43m)\u001b[49m\n",
      "\u001b[31mStopIteration\u001b[39m: "
     ]
    }
   ],
   "source": [
    "f.__next__()"
   ]
  },
  {
   "cell_type": "markdown",
   "id": "8b18e0b1",
   "metadata": {},
   "source": [
    "- Note that a 'StopIteration' exception was raised.\n",
    "- Infact .readline() method also internally uses this method of .__next__() and it brilliantly handles these exceptions and provides us an understandable output."
   ]
  },
  {
   "cell_type": "code",
   "execution_count": null,
   "id": "1cda68c7",
   "metadata": {},
   "outputs": [],
   "source": []
  },
  {
   "cell_type": "markdown",
   "id": "2371d79b",
   "metadata": {},
   "source": [
    "### Method 3- For loop"
   ]
  },
  {
   "cell_type": "code",
   "execution_count": 37,
   "id": "ef5c06ff",
   "metadata": {},
   "outputs": [],
   "source": [
    "f = open(r'C:\\Users\\devar\\Documents\\VS Code\\learn-python\\04_iteration_tools\\01_test.py')"
   ]
  },
  {
   "cell_type": "code",
   "execution_count": 38,
   "id": "89551405",
   "metadata": {},
   "outputs": [
    {
     "name": "stdout",
     "output_type": "stream",
     "text": [
      "import time\n",
      "print(\"How are you?\")\n",
      "username = 'Dev'\n",
      "print(username)"
     ]
    }
   ],
   "source": [
    "for line in f:\n",
    "    print(line, end = '')"
   ]
  },
  {
   "cell_type": "code",
   "execution_count": null,
   "id": "e5509ca7",
   "metadata": {},
   "outputs": [],
   "source": []
  },
  {
   "cell_type": "markdown",
   "id": "94d4ab78",
   "metadata": {},
   "source": [
    "### Method 4- While loop"
   ]
  },
  {
   "cell_type": "code",
   "execution_count": 42,
   "id": "e350ebde",
   "metadata": {},
   "outputs": [],
   "source": [
    "f = open(r'C:\\Users\\devar\\Documents\\VS Code\\learn-python\\04_iteration_tools\\01_test.py')"
   ]
  },
  {
   "cell_type": "code",
   "execution_count": 43,
   "id": "141f68a9",
   "metadata": {},
   "outputs": [
    {
     "name": "stdout",
     "output_type": "stream",
     "text": [
      "import time\n",
      "print(\"How are you?\")\n",
      "username = 'Dev'\n",
      "print(username)"
     ]
    }
   ],
   "source": [
    "while True:\n",
    "    line = f.readline()\n",
    "    if not line:\n",
    "        break\n",
    "    else:\n",
    "        print(line, end = '')       "
   ]
  },
  {
   "cell_type": "markdown",
   "id": "ad85cae1",
   "metadata": {},
   "source": [
    "## Iteration and List"
   ]
  },
  {
   "cell_type": "code",
   "execution_count": 59,
   "id": "531ee054",
   "metadata": {},
   "outputs": [],
   "source": [
    "mylist = [1, 2, 3, 4]"
   ]
  },
  {
   "cell_type": "code",
   "execution_count": 60,
   "id": "a199124b",
   "metadata": {},
   "outputs": [
    {
     "data": {
      "text/plain": [
       "<list_iterator at 0x2b7f51434f0>"
      ]
     },
     "execution_count": 60,
     "metadata": {},
     "output_type": "execute_result"
    }
   ],
   "source": [
    "i = iter(mylist)\n",
    "i"
   ]
  },
  {
   "cell_type": "code",
   "execution_count": 47,
   "id": "247d3169",
   "metadata": {},
   "outputs": [
    {
     "data": {
      "text/plain": [
       "1"
      ]
     },
     "execution_count": 47,
     "metadata": {},
     "output_type": "execute_result"
    }
   ],
   "source": [
    "i.__next__()"
   ]
  },
  {
   "cell_type": "code",
   "execution_count": 48,
   "id": "8c50afb7",
   "metadata": {},
   "outputs": [
    {
     "data": {
      "text/plain": [
       "2"
      ]
     },
     "execution_count": 48,
     "metadata": {},
     "output_type": "execute_result"
    }
   ],
   "source": [
    "i.__next__()"
   ]
  },
  {
   "cell_type": "code",
   "execution_count": 49,
   "id": "2b07eef2",
   "metadata": {},
   "outputs": [
    {
     "data": {
      "text/plain": [
       "3"
      ]
     },
     "execution_count": 49,
     "metadata": {},
     "output_type": "execute_result"
    }
   ],
   "source": [
    "i.__next__()"
   ]
  },
  {
   "cell_type": "code",
   "execution_count": 50,
   "id": "745e5d9d",
   "metadata": {},
   "outputs": [
    {
     "data": {
      "text/plain": [
       "4"
      ]
     },
     "execution_count": 50,
     "metadata": {},
     "output_type": "execute_result"
    }
   ],
   "source": [
    "i.__next__()"
   ]
  },
  {
   "cell_type": "code",
   "execution_count": 51,
   "id": "36019eeb",
   "metadata": {},
   "outputs": [
    {
     "ename": "StopIteration",
     "evalue": "",
     "output_type": "error",
     "traceback": [
      "\u001b[31m---------------------------------------------------------------------------\u001b[39m",
      "\u001b[31mStopIteration\u001b[39m                             Traceback (most recent call last)",
      "\u001b[36mCell\u001b[39m\u001b[36m \u001b[39m\u001b[32mIn[51]\u001b[39m\u001b[32m, line 1\u001b[39m\n\u001b[32m----> \u001b[39m\u001b[32m1\u001b[39m \u001b[43mi\u001b[49m\u001b[43m.\u001b[49m\u001b[34;43m__next__\u001b[39;49m\u001b[43m(\u001b[49m\u001b[43m)\u001b[49m\n",
      "\u001b[31mStopIteration\u001b[39m: "
     ]
    }
   ],
   "source": [
    "i.__next__()"
   ]
  },
  {
   "cell_type": "markdown",
   "id": "7d398385",
   "metadata": {},
   "source": [
    "- this iter object is present by default in files"
   ]
  },
  {
   "cell_type": "code",
   "execution_count": 53,
   "id": "99adf19e",
   "metadata": {},
   "outputs": [],
   "source": [
    "f = open(r'C:\\Users\\devar\\Documents\\VS Code\\learn-python\\04_iteration_tools\\01_test.py')"
   ]
  },
  {
   "cell_type": "markdown",
   "id": "04ba6ce0",
   "metadata": {},
   "source": [
    "- this f already has something like iter(f), which we already completed previously\n",
    "- and this can be provide as given below:"
   ]
  },
  {
   "cell_type": "code",
   "execution_count": 56,
   "id": "ec802a29",
   "metadata": {},
   "outputs": [
    {
     "name": "stdout",
     "output_type": "stream",
     "text": [
      "True\n",
      "True\n"
     ]
    }
   ],
   "source": [
    "# all the below are true for file and not for list:\n",
    "print(iter(f) is f)\n",
    "print(iter(f) is f.__iter__())"
   ]
  },
  {
   "cell_type": "markdown",
   "id": "637102a3",
   "metadata": {},
   "source": [
    "- we can see the above mentioned behaviour is specific to files and not other iterables like list\n",
    "- example is shown below:"
   ]
  },
  {
   "cell_type": "code",
   "execution_count": 61,
   "id": "100ed631",
   "metadata": {},
   "outputs": [
    {
     "name": "stdout",
     "output_type": "stream",
     "text": [
      "False\n"
     ]
    }
   ],
   "source": [
    "print(iter(mylist) is mylist)"
   ]
  },
  {
   "cell_type": "markdown",
   "id": "d4c06577",
   "metadata": {},
   "source": [
    "## Iteration and Dictionary"
   ]
  },
  {
   "cell_type": "code",
   "execution_count": 62,
   "id": "7818760c",
   "metadata": {},
   "outputs": [],
   "source": [
    "d = {'a': 1,\n",
    "     'b': 2}"
   ]
  },
  {
   "cell_type": "code",
   "execution_count": 63,
   "id": "e00cdb20",
   "metadata": {},
   "outputs": [
    {
     "name": "stdout",
     "output_type": "stream",
     "text": [
      "a\n",
      "b\n"
     ]
    }
   ],
   "source": [
    "for key in d:\n",
    "    print(key)"
   ]
  },
  {
   "cell_type": "code",
   "execution_count": 64,
   "id": "824ac9be",
   "metadata": {},
   "outputs": [
    {
     "data": {
      "text/plain": [
       "<dict_keyiterator at 0x2b7f51bdee0>"
      ]
     },
     "execution_count": 64,
     "metadata": {},
     "output_type": "execute_result"
    }
   ],
   "source": [
    "i = iter(d)\n",
    "i"
   ]
  },
  {
   "cell_type": "code",
   "execution_count": 65,
   "id": "cd820f5c",
   "metadata": {},
   "outputs": [
    {
     "data": {
      "text/plain": [
       "'a'"
      ]
     },
     "execution_count": 65,
     "metadata": {},
     "output_type": "execute_result"
    }
   ],
   "source": [
    "i.__next__()"
   ]
  },
  {
   "cell_type": "code",
   "execution_count": 66,
   "id": "cc80db40",
   "metadata": {},
   "outputs": [
    {
     "data": {
      "text/plain": [
       "'b'"
      ]
     },
     "execution_count": 66,
     "metadata": {},
     "output_type": "execute_result"
    }
   ],
   "source": [
    "i.__next__()"
   ]
  },
  {
   "cell_type": "code",
   "execution_count": 67,
   "id": "25e9afa8",
   "metadata": {},
   "outputs": [
    {
     "ename": "StopIteration",
     "evalue": "",
     "output_type": "error",
     "traceback": [
      "\u001b[31m---------------------------------------------------------------------------\u001b[39m",
      "\u001b[31mStopIteration\u001b[39m                             Traceback (most recent call last)",
      "\u001b[36mCell\u001b[39m\u001b[36m \u001b[39m\u001b[32mIn[67]\u001b[39m\u001b[32m, line 1\u001b[39m\n\u001b[32m----> \u001b[39m\u001b[32m1\u001b[39m \u001b[43mi\u001b[49m\u001b[43m.\u001b[49m\u001b[34;43m__next__\u001b[39;49m\u001b[43m(\u001b[49m\u001b[43m)\u001b[49m\n",
      "\u001b[31mStopIteration\u001b[39m: "
     ]
    }
   ],
   "source": [
    "i.__next__()"
   ]
  },
  {
   "cell_type": "markdown",
   "id": "85f9db6f",
   "metadata": {},
   "source": [
    "- we can also use next() in place of __next__()"
   ]
  },
  {
   "cell_type": "code",
   "execution_count": 68,
   "metadata": {},
   "outputs": [],
   "source": [
    "d = {'a': 1,\n",
    "     'b': 2}"
   ]
  },
  {
   "cell_type": "code",
   "execution_count": 69,
   "id": "2e3688f4",
   "metadata": {},
   "outputs": [
    {
     "data": {
      "text/plain": [
       "<dict_keyiterator at 0x2b7f51be020>"
      ]
     },
     "execution_count": 69,
     "metadata": {},
     "output_type": "execute_result"
    }
   ],
   "source": [
    "i = iter(d)\n",
    "i"
   ]
  },
  {
   "cell_type": "code",
   "execution_count": 70,
   "id": "7f5567e5",
   "metadata": {},
   "outputs": [
    {
     "data": {
      "text/plain": [
       "'a'"
      ]
     },
     "execution_count": 70,
     "metadata": {},
     "output_type": "execute_result"
    }
   ],
   "source": [
    "next(i)"
   ]
  },
  {
   "cell_type": "code",
   "execution_count": 71,
   "id": "91905582",
   "metadata": {},
   "outputs": [
    {
     "data": {
      "text/plain": [
       "'b'"
      ]
     },
     "execution_count": 71,
     "metadata": {},
     "output_type": "execute_result"
    }
   ],
   "source": [
    "next(i)"
   ]
  },
  {
   "cell_type": "code",
   "execution_count": 72,
   "id": "ae8bcfc6",
   "metadata": {},
   "outputs": [
    {
     "ename": "StopIteration",
     "evalue": "",
     "output_type": "error",
     "traceback": [
      "\u001b[31m---------------------------------------------------------------------------\u001b[39m",
      "\u001b[31mStopIteration\u001b[39m                             Traceback (most recent call last)",
      "\u001b[36mCell\u001b[39m\u001b[36m \u001b[39m\u001b[32mIn[72]\u001b[39m\u001b[32m, line 1\u001b[39m\n\u001b[32m----> \u001b[39m\u001b[32m1\u001b[39m \u001b[38;5;28;43mnext\u001b[39;49m\u001b[43m(\u001b[49m\u001b[43mi\u001b[49m\u001b[43m)\u001b[49m\n",
      "\u001b[31mStopIteration\u001b[39m: "
     ]
    }
   ],
   "source": [
    "next(i)"
   ]
  },
  {
   "cell_type": "markdown",
   "id": "e4e46c49",
   "metadata": {},
   "source": [
    "- Now let us try the same idea on range()"
   ]
  },
  {
   "cell_type": "code",
   "execution_count": 73,
   "id": "d00ffd89",
   "metadata": {},
   "outputs": [],
   "source": [
    "r = iter(range(5))"
   ]
  },
  {
   "cell_type": "code",
   "execution_count": 74,
   "id": "1d82cf40",
   "metadata": {},
   "outputs": [
    {
     "data": {
      "text/plain": [
       "0"
      ]
     },
     "execution_count": 74,
     "metadata": {},
     "output_type": "execute_result"
    }
   ],
   "source": [
    "next(r)"
   ]
  },
  {
   "cell_type": "code",
   "execution_count": 75,
   "id": "845c8be5",
   "metadata": {},
   "outputs": [
    {
     "data": {
      "text/plain": [
       "1"
      ]
     },
     "execution_count": 75,
     "metadata": {},
     "output_type": "execute_result"
    }
   ],
   "source": [
    "next(r)"
   ]
  },
  {
   "cell_type": "code",
   "execution_count": 76,
   "id": "7f736585",
   "metadata": {},
   "outputs": [
    {
     "data": {
      "text/plain": [
       "2"
      ]
     },
     "execution_count": 76,
     "metadata": {},
     "output_type": "execute_result"
    }
   ],
   "source": [
    "next(r)"
   ]
  },
  {
   "cell_type": "code",
   "execution_count": 77,
   "id": "b7b35f97",
   "metadata": {},
   "outputs": [
    {
     "data": {
      "text/plain": [
       "3"
      ]
     },
     "execution_count": 77,
     "metadata": {},
     "output_type": "execute_result"
    }
   ],
   "source": [
    "next(r)"
   ]
  },
  {
   "cell_type": "code",
   "execution_count": 78,
   "id": "e8c4316c",
   "metadata": {},
   "outputs": [
    {
     "data": {
      "text/plain": [
       "4"
      ]
     },
     "execution_count": 78,
     "metadata": {},
     "output_type": "execute_result"
    }
   ],
   "source": [
    "next(r)"
   ]
  },
  {
   "cell_type": "code",
   "execution_count": 79,
   "id": "e9876869",
   "metadata": {},
   "outputs": [
    {
     "ename": "StopIteration",
     "evalue": "",
     "output_type": "error",
     "traceback": [
      "\u001b[31m---------------------------------------------------------------------------\u001b[39m",
      "\u001b[31mStopIteration\u001b[39m                             Traceback (most recent call last)",
      "\u001b[36mCell\u001b[39m\u001b[36m \u001b[39m\u001b[32mIn[79]\u001b[39m\u001b[32m, line 1\u001b[39m\n\u001b[32m----> \u001b[39m\u001b[32m1\u001b[39m \u001b[38;5;28;43mnext\u001b[39;49m\u001b[43m(\u001b[49m\u001b[43mr\u001b[49m\u001b[43m)\u001b[49m\n",
      "\u001b[31mStopIteration\u001b[39m: "
     ]
    }
   ],
   "source": [
    "next(r)"
   ]
  },
  {
   "cell_type": "code",
   "execution_count": null,
   "id": "08600962",
   "metadata": {},
   "outputs": [],
   "source": []
  },
  {
   "cell_type": "code",
   "execution_count": null,
   "id": "73e2a00b",
   "metadata": {},
   "outputs": [],
   "source": []
  }
 ],
 "metadata": {
  "kernelspec": {
   "display_name": "venv",
   "language": "python",
   "name": "python3"
  },
  "language_info": {
   "codemirror_mode": {
    "name": "ipython",
    "version": 3
   },
   "file_extension": ".py",
   "mimetype": "text/x-python",
   "name": "python",
   "nbconvert_exporter": "python",
   "pygments_lexer": "ipython3",
   "version": "3.11.9"
  }
 },
 "nbformat": 4,
 "nbformat_minor": 5
}
