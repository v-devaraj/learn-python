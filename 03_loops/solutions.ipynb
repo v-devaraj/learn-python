{
 "cells": [
  {
   "cell_type": "markdown",
   "id": "ae147b72",
   "metadata": {},
   "source": [
    "# Solutions"
   ]
  },
  {
   "cell_type": "markdown",
   "id": "be3324a1",
   "metadata": {},
   "source": [
    "## 1. Counting Positive Numbers"
   ]
  },
  {
   "cell_type": "markdown",
   "id": "722b6006",
   "metadata": {},
   "source": [
    "Problem: Given a list of numbers, count how many are positive.\n",
    "numbers = [1, -2, 3, -4, 5, 6, -7, -8, 9, 10]"
   ]
  },
  {
   "cell_type": "code",
   "execution_count": 1,
   "id": "b6ee8e07",
   "metadata": {},
   "outputs": [
    {
     "name": "stdout",
     "output_type": "stream",
     "text": [
      "Count of positive numbers is 6\n"
     ]
    }
   ],
   "source": [
    "numbers = [1, -2, 3, -4, 5, 6, -7, -8, 9, 10]\n",
    "\n",
    "count = 0\n",
    "\n",
    "for i in numbers:\n",
    "    if i > 0:\n",
    "        count += 1\n",
    "\n",
    "print(f\"Count of positive numbers is {count}\")"
   ]
  },
  {
   "cell_type": "markdown",
   "id": "b209d2f0",
   "metadata": {},
   "source": [
    "## 2. Sum of Even Numbers"
   ]
  },
  {
   "cell_type": "markdown",
   "id": "686e5108",
   "metadata": {},
   "source": [
    "Problem: Calculate the sum of even numbers up to a given number n."
   ]
  },
  {
   "cell_type": "code",
   "execution_count": 3,
   "id": "24f2f696",
   "metadata": {},
   "outputs": [
    {
     "name": "stdout",
     "output_type": "stream",
     "text": [
      "Required sum is 0\n"
     ]
    }
   ],
   "source": [
    "number = int(input(\"Enter a number: \"))\n",
    "\n",
    "sum = 0\n",
    "\n",
    "if number < 0:\n",
    "    print('Enter a positive number')\n",
    "for i in range(2, number+1, 2):\n",
    "    sum += i\n",
    "print(f\"Required sum is {sum}\")\n"
   ]
  },
  {
   "cell_type": "markdown",
   "id": "dc24b4b7",
   "metadata": {},
   "source": [
    "## 3. Multiplication Table Printer"
   ]
  },
  {
   "cell_type": "markdown",
   "id": "f279df4b",
   "metadata": {},
   "source": [
    "Problem: Print the multiplication table for a given number up to 10, but skip the fifth iteration."
   ]
  },
  {
   "cell_type": "code",
   "execution_count": 4,
   "id": "0d4bc80d",
   "metadata": {},
   "outputs": [
    {
     "name": "stdout",
     "output_type": "stream",
     "text": [
      "3 x 1 = 3\n",
      "3 x 2 = 6\n",
      "3 x 3 = 9\n",
      "3 x 4 = 12\n",
      "3 x 6 = 18\n",
      "3 x 7 = 21\n",
      "3 x 8 = 24\n",
      "3 x 9 = 27\n",
      "3 x 10 = 30\n"
     ]
    }
   ],
   "source": [
    "number = int(input(\"Enter a number: \"))\n",
    "\n",
    "\n",
    "for i in range(1, 11):\n",
    "    if i == 5:\n",
    "        continue\n",
    "    print(number, 'x', i, '=', number * i)"
   ]
  },
  {
   "cell_type": "markdown",
   "id": "9d14f33e",
   "metadata": {},
   "source": [
    "## 4. Reverse a String"
   ]
  },
  {
   "cell_type": "markdown",
   "id": "2eadf450",
   "metadata": {},
   "source": [
    "Problem: Reverse a string using a loop."
   ]
  },
  {
   "cell_type": "code",
   "execution_count": 7,
   "id": "2d00b2d8",
   "metadata": {},
   "outputs": [
    {
     "name": "stdout",
     "output_type": "stream",
     "text": [
      "nohtyP\n"
     ]
    }
   ],
   "source": [
    "input_str = input(\"Enter a string: \")\n",
    "reverse_str = ''\n",
    "\n",
    "for char in input_str:\n",
    "    reverse_str = char + reverse_str\n",
    "\n",
    "print(reverse_str)"
   ]
  },
  {
   "cell_type": "markdown",
   "id": "a9a1e455",
   "metadata": {},
   "source": [
    "## 5. Find the First Non-Repeated Character"
   ]
  },
  {
   "cell_type": "markdown",
   "metadata": {},
   "source": [
    "Problem: Given a string, find the first non-repeated character."
   ]
  },
  {
   "cell_type": "code",
   "execution_count": 11,
   "id": "2660386f",
   "metadata": {},
   "outputs": [
    {
     "name": "stdout",
     "output_type": "stream",
     "text": [
      "The first non repeating character in the given input string is 'h'\n"
     ]
    }
   ],
   "source": [
    "input_str = input(\"Enter an input: \")\n",
    "\n",
    "for char in input_str:\n",
    "    if input_str.count(char) == 1:\n",
    "        print(f\"The first non repeating character in the given input string is '{char}'\")\n",
    "        break"
   ]
  },
  {
   "cell_type": "markdown",
   "id": "bd45dac7",
   "metadata": {},
   "source": [
    "## 6. Factorial Calculator"
   ]
  },
  {
   "cell_type": "markdown",
   "id": "66ab495c",
   "metadata": {},
   "source": [
    "Problem: Compute the factorial of a number using a while loop."
   ]
  },
  {
   "cell_type": "code",
   "execution_count": 14,
   "id": "7cc6e388",
   "metadata": {},
   "outputs": [
    {
     "name": "stdout",
     "output_type": "stream",
     "text": [
      "Factorial of 5 is 120\n"
     ]
    }
   ],
   "source": [
    "input_number = int(input(\"Enter a number as input: \"))\n",
    "number = input_number\n",
    "\n",
    "factorial = 1\n",
    "\n",
    "while number > 1:\n",
    "    factorial *= number\n",
    "    number -= 1\n",
    "print(f\"Factorial of {input_number} is {factorial}\")"
   ]
  },
  {
   "cell_type": "markdown",
   "id": "4c1082b1",
   "metadata": {},
   "source": [
    "## 7. Validate Input"
   ]
  },
  {
   "cell_type": "markdown",
   "id": "0d07171d",
   "metadata": {},
   "source": [
    "Problem: Keep asking the user for input until they enter a number between 1 and 10."
   ]
  },
  {
   "cell_type": "code",
   "execution_count": 19,
   "id": "10acd9b6",
   "metadata": {},
   "outputs": [
    {
     "name": "stdout",
     "output_type": "stream",
     "text": [
      "Invalid number, try again\n",
      "Invalid number, try again\n",
      "Congrats, you entered a number between 1 and 10, which is 1\n"
     ]
    }
   ],
   "source": [
    "while True:\n",
    "    num = int(input(\"Enter a number between 1 and 10\"))\n",
    "\n",
    "    if 1 <= num <= 10:\n",
    "        print(f\"Congrats, you entered a number between 1 and 10, which is {num}\")\n",
    "        break\n",
    "    else:\n",
    "        print(\"Invalid number, try again\")\n"
   ]
  },
  {
   "cell_type": "markdown",
   "id": "4a24bbab",
   "metadata": {},
   "source": [
    "## 8. Prime Number Checker"
   ]
  },
  {
   "cell_type": "markdown",
   "id": "f6a544da",
   "metadata": {},
   "source": [
    "Problem: Check if a number is prime."
   ]
  },
  {
   "cell_type": "code",
   "execution_count": 23,
   "id": "03cd3c18",
   "metadata": {},
   "outputs": [
    {
     "name": "stdout",
     "output_type": "stream",
     "text": [
      "False\n"
     ]
    }
   ],
   "source": [
    "number = int(input(\"Entre a number: \"))\n",
    "\n",
    "flag = True\n",
    "\n",
    "if number > 1:\n",
    "    for i in range(2, number):\n",
    "        if (number % i) == 0:\n",
    "            flag = False\n",
    "            break\n",
    "else:\n",
    "    print(\"Provide a numbr greater than 1\")\n",
    "print(flag)\n",
    "    "
   ]
  },
  {
   "cell_type": "markdown",
   "id": "988b1c94",
   "metadata": {},
   "source": [
    "## 9. List Uniqueness Checker"
   ]
  },
  {
   "cell_type": "markdown",
   "id": "d011abf5",
   "metadata": {},
   "source": [
    "Problem: Check if all elements in a list are unique. If a duplicate is found, exit the loop and print the duplicate.\n",
    "\n",
    "items = [\"apple\", \"banana\", \"orange\", \"apple\", \"mango\"]"
   ]
  },
  {
   "cell_type": "code",
   "execution_count": null,
   "id": "cabe2ed6",
   "metadata": {},
   "outputs": [
    {
     "name": "stdout",
     "output_type": "stream",
     "text": [
      "duplicate found and it is apple\n"
     ]
    }
   ],
   "source": [
    "items = [\"apple\", \"banana\", \"orange\", \"apple\", \"mango\"]\n",
    "\n",
    "for i in items:\n",
    "    if items.count(i) > 1:\n",
    "        print(f\"Duplicate found and it is {i}\")\n",
    "        break\n",
    "else:\n",
    "    print(\"No duplicate item found in the list\")"
   ]
  },
  {
   "cell_type": "markdown",
   "id": "d46d3c91",
   "metadata": {},
   "source": [
    "## 10. Exponential Backoff"
   ]
  },
  {
   "cell_type": "markdown",
   "id": "bc939bd8",
   "metadata": {},
   "source": [
    "Problem: Implement an exponential backoff strategy that doubles the wait time between retries, starting from 1 second, but stops after 5 retries."
   ]
  },
  {
   "cell_type": "code",
   "execution_count": null,
   "id": "2567703d",
   "metadata": {},
   "outputs": [
    {
     "name": "stdout",
     "output_type": "stream",
     "text": [
      "Attempt 1 - wait time 1\n",
      "Attempt 2 - wait time 2\n",
      "Attempt 3 - wait time 4\n",
      "Attempt 4 - wait time 8\n",
      "Attempt 5 - wait time 16\n"
     ]
    }
   ],
   "source": [
    "import time\n",
    "\n",
    "wait_time = 1\n",
    "max_retries = 5\n",
    "attempts = 0\n",
    "\n",
    "while attempts < max_retries:\n",
    "    print(\"Attempt\", attempts + 1, \"- wait time\", wait_time, )\n",
    "    time.sleep(wait_time)\n",
    "    wait_time *= 2\n",
    "    attempts += 1\n"
   ]
  }
 ],
 "metadata": {
  "kernelspec": {
   "display_name": "venv",
   "language": "python",
   "name": "python3"
  },
  "language_info": {
   "codemirror_mode": {
    "name": "ipython",
    "version": 3
   },
   "file_extension": ".py",
   "mimetype": "text/x-python",
   "name": "python",
   "nbconvert_exporter": "python",
   "pygments_lexer": "ipython3",
   "version": "3.11.9"
  }
 },
 "nbformat": 4,
 "nbformat_minor": 5
}
