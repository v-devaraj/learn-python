{
 "cells": [
  {
   "cell_type": "markdown",
   "id": "9d6c623a",
   "metadata": {},
   "source": [
    "# Scopes"
   ]
  },
  {
   "cell_type": "markdown",
   "id": "a9abe472",
   "metadata": {},
   "source": [
    "- scopes are also known as **namespaces**\n",
    "- Let us do investigative study to understand the concept better"
   ]
  },
  {
   "cell_type": "code",
   "execution_count": 1,
   "id": "4e606aa8",
   "metadata": {},
   "outputs": [
    {
     "name": "stdout",
     "output_type": "stream",
     "text": [
      "chaiaurcode\n"
     ]
    }
   ],
   "source": [
    "username = 'chaiaurcode'\n",
    "\n",
    "def func():\n",
    "    username = 'chai'\n",
    "\n",
    "print(username)"
   ]
  },
  {
   "cell_type": "markdown",
   "id": "d6e6d516",
   "metadata": {},
   "source": [
    "- note that the username defined inside the function is not used outside the function, while printing."
   ]
  },
  {
   "cell_type": "code",
   "execution_count": 2,
   "id": "d2b355b6",
   "metadata": {},
   "outputs": [
    {
     "name": "stdout",
     "output_type": "stream",
     "text": [
      "chaiaurcode\n",
      "chai\n"
     ]
    }
   ],
   "source": [
    "username = 'chaiaurcode'\n",
    "\n",
    "def func():\n",
    "    username = 'chai'\n",
    "    print(username)\n",
    "\n",
    "print(username)\n",
    "func()"
   ]
  },
  {
   "cell_type": "code",
   "execution_count": 3,
   "id": "8a974a05",
   "metadata": {},
   "outputs": [
    {
     "name": "stdout",
     "output_type": "stream",
     "text": [
      "chaiaurcode\n",
      "chaiaurcode\n"
     ]
    }
   ],
   "source": [
    "username = 'chaiaurcode'\n",
    "\n",
    "def func():\n",
    "    #username = 'chai'\n",
    "    print(username)\n",
    "\n",
    "print(username)\n",
    "func()"
   ]
  },
  {
   "cell_type": "markdown",
   "id": "d3bb8a46",
   "metadata": {},
   "source": [
    "- here note that as there were no local variable called username, it searched and print a global variable with the name username."
   ]
  },
  {
   "cell_type": "code",
   "execution_count": 7,
   "id": "305f943b",
   "metadata": {},
   "outputs": [
    {
     "name": "stdout",
     "output_type": "stream",
     "text": [
      "100\n"
     ]
    }
   ],
   "source": [
    "x = 99\n",
    "\n",
    "def func2(y):\n",
    "    z = x + y\n",
    "    return z\n",
    "\n",
    "result = func2(1)\n",
    "print(result)"
   ]
  },
  {
   "cell_type": "code",
   "execution_count": 8,
   "id": "70dcbd85",
   "metadata": {},
   "outputs": [
    {
     "name": "stdout",
     "output_type": "stream",
     "text": [
      "99\n"
     ]
    }
   ],
   "source": [
    "x = 99\n",
    "\n",
    "def func3():\n",
    "    x = 88\n",
    "\n",
    "print(x)"
   ]
  },
  {
   "cell_type": "markdown",
   "id": "a1c191ab",
   "metadata": {},
   "source": [
    "- note that the direct changes made to a global variable inside a function is not impacting it's global value."
   ]
  },
  {
   "cell_type": "code",
   "execution_count": 14,
   "id": "1893d890",
   "metadata": {},
   "outputs": [
    {
     "name": "stdout",
     "output_type": "stream",
     "text": [
      "12\n"
     ]
    }
   ],
   "source": [
    "x = 99\n",
    "\n",
    "def func3():\n",
    "    global x\n",
    "    x = 12\n",
    "\n",
    "func3()\n",
    "print(x)"
   ]
  },
  {
   "cell_type": "markdown",
   "id": "6ab1dbf3",
   "metadata": {},
   "source": [
    "- note that func3 has mentioned that it will use 'global x'\n",
    "- and hence when that function call is made, all the changes made to 'x' will be reflected in the global values of 'x'\n",
    "\n",
    "- **NOTE**: It is not a good practice to make a global call of a variable inside a function and change it's values."
   ]
  },
  {
   "cell_type": "code",
   "execution_count": 15,
   "id": "203b0797",
   "metadata": {},
   "outputs": [
    {
     "name": "stdout",
     "output_type": "stream",
     "text": [
      "88\n"
     ]
    }
   ],
   "source": [
    "x = 99\n",
    "\n",
    "def f1():\n",
    "    x = 88\n",
    "\n",
    "    def f2():\n",
    "        print(x)\n",
    "    f2()\n",
    "\n",
    "f1()"
   ]
  },
  {
   "cell_type": "code",
   "execution_count": 18,
   "id": "3e8e282c",
   "metadata": {},
   "outputs": [
    {
     "name": "stdout",
     "output_type": "stream",
     "text": [
      "99\n"
     ]
    }
   ],
   "source": [
    "x = 99\n",
    "\n",
    "def f1():\n",
    "    def f2():\n",
    "        print(x)\n",
    "    \n",
    "    f2()\n",
    "\n",
    "f1()"
   ]
  },
  {
   "cell_type": "markdown",
   "id": "80c37e17",
   "metadata": {},
   "source": [
    "- note the above 2 codes.\n",
    "- when a variable is not available in the immediate viscinity or locally then program moves one step up to check if it is available there or not. And if it could not find it there, then it goes one step further and checks for it."
   ]
  },
  {
   "cell_type": "code",
   "execution_count": 20,
   "id": "4fee1b21",
   "metadata": {},
   "outputs": [
    {
     "name": "stdout",
     "output_type": "stream",
     "text": [
      "88\n"
     ]
    }
   ],
   "source": [
    "x = 99\n",
    "\n",
    "def f1():\n",
    "    x = 88\n",
    "\n",
    "    def f2():\n",
    "        print(x)\n",
    "    return f2()\n",
    "\n",
    "f1()"
   ]
  },
  {
   "cell_type": "markdown",
   "id": "0105861e",
   "metadata": {},
   "source": [
    "- let us try not executing function 'f2' and let us see what happens in this case:"
   ]
  },
  {
   "cell_type": "code",
   "execution_count": 22,
   "id": "98e7ced1",
   "metadata": {},
   "outputs": [
    {
     "name": "stdout",
     "output_type": "stream",
     "text": [
      "88\n"
     ]
    }
   ],
   "source": [
    "x = 99\n",
    "\n",
    "def f1():\n",
    "    x = 88\n",
    "\n",
    "    def f2():\n",
    "        print(x)\n",
    "    return f2\n",
    "\n",
    "result = f1()\n",
    "result()"
   ]
  },
  {
   "cell_type": "markdown",
   "id": "d4f630ad",
   "metadata": {},
   "source": [
    "- now this is interesting.\n",
    "- we might think that result will store just the 2 line definition of function 'f2' -> but in that case it doesn't have access to the value of 'x' and hence how would it print, print(x)?? But in reality it is providing an output of print(x)!!\n",
    "- So what is happening??\n",
    "    - This idea is called **closure** or **factory functions**\n",
    "    - when we store function definition of f2 in 'result', please note that all the references to the variables used inside f2, (but those variables which is outside the function f2) also goes to get stored inside 'result'\n",
    "    - This is also called **bag theory**"
   ]
  },
  {
   "cell_type": "code",
   "execution_count": 25,
   "id": "c7082bab",
   "metadata": {},
   "outputs": [
    {
     "name": "stdout",
     "output_type": "stream",
     "text": [
      "25\n",
      "125\n"
     ]
    }
   ],
   "source": [
    "def chaicoder(num):\n",
    "    def actual(x):\n",
    "        return x ** num\n",
    "    return actual\n",
    "\n",
    "f = chaicoder(2)\n",
    "g = chaicoder(3)\n",
    "\n",
    "print(f(5))\n",
    "print(g(5))"
   ]
  },
  {
   "cell_type": "markdown",
   "id": "98f70881",
   "metadata": {},
   "source": [
    "- note that f stores the definition of **actual** and also the reference to num (or it is also taking the value of num, which is 2 in this case)\n",
    "- note that g stores the definition of **actual** and also the reference to num (or it is also taking the value of num, which is 3 in this case)"
   ]
  },
  {
   "cell_type": "markdown",
   "id": "ef281f9b",
   "metadata": {},
   "source": [
    "- And in the print(f(5)) or print(g(5)), statements it is taking in the value of 'x' and returns an output for x ** num (we already have values for 'num' from the above mentioned method)"
   ]
  },
  {
   "attachments": {
    "image.png": {
     "image/png": "[encoded data removed]"
    }
   },
   "cell_type": "markdown",
   "id": "7cb07c30",
   "metadata": {},
   "source": [
    "![image.png](attachment:image.png)"
   ]
  },
  {
   "cell_type": "code",
   "execution_count": null,
   "metadata": {},
   "outputs": [],
   "source": []
  }
 ],
 "metadata": {
  "kernelspec": {
   "display_name": "venv",
   "language": "python",
   "name": "python3"
  },
  "language_info": {
   "codemirror_mode": {
    "name": "ipython",
    "version": 3
   },
   "file_extension": ".py",
   "mimetype": "text/x-python",
   "name": "python",
   "nbconvert_exporter": "python",
   "pygments_lexer": "ipython3",
   "version": "3.11.9"
  }
 },
 "nbformat": 4,
 "nbformat_minor": 5
}
