{
 "cells": [
  {
   "cell_type": "markdown",
   "id": "fb239efc",
   "metadata": {},
   "source": [
    "# Solutions"
   ]
  },
  {
   "cell_type": "markdown",
   "id": "5543ac59",
   "metadata": {},
   "source": [
    "## 1. Basic Class and Object"
   ]
  },
  {
   "cell_type": "markdown",
   "id": "9f4bb753",
   "metadata": {},
   "source": [
    "Problem: Create a Car class with attributes like brand and model. Then create an instance of this class."
   ]
  },
  {
   "cell_type": "code",
   "execution_count": 8,
   "id": "1c94a398",
   "metadata": {},
   "outputs": [
    {
     "name": "stdout",
     "output_type": "stream",
     "text": [
      "Toyota\n",
      "Corolla\n"
     ]
    }
   ],
   "source": [
    "class Car:\n",
    "    def __init__(self, brand, model):\n",
    "        self.brand = brand\n",
    "        self.model = model\n",
    "\n",
    "my_car = Car('Toyota', 'Corolla')\n",
    "print(my_car.brand)\n",
    "print(my_car.model)"
   ]
  },
  {
   "cell_type": "markdown",
   "id": "4da42b84",
   "metadata": {},
   "source": [
    "## 2. Class Method and Self"
   ]
  },
  {
   "cell_type": "markdown",
   "id": "34ad9a97",
   "metadata": {},
   "source": [
    "Problem: Add a method to the Car class that displays the full name of the car (brand and model)."
   ]
  },
  {
   "cell_type": "code",
   "execution_count": 10,
   "id": "06287aa9",
   "metadata": {},
   "outputs": [
    {
     "name": "stdout",
     "output_type": "stream",
     "text": [
      "Toyota\n",
      "Corolla\n",
      "Toyota Corolla\n"
     ]
    }
   ],
   "source": [
    "class Car:\n",
    "    def __init__(self, brand, model):\n",
    "        self.brand = brand\n",
    "        self.model = model\n",
    "    \n",
    "    def full_name(self):\n",
    "        return f\"{self.brand} {self.model}\"\n",
    "\n",
    "my_car = Car('Toyota', 'Corolla')\n",
    "print(my_car.brand)\n",
    "print(my_car.model)\n",
    "print(my_car.full_name())"
   ]
  },
  {
   "cell_type": "markdown",
   "id": "5b25c6fc",
   "metadata": {},
   "source": [
    "## 3. Inheritance"
   ]
  },
  {
   "cell_type": "markdown",
   "id": "492520b2",
   "metadata": {},
   "source": [
    "Problem: Create an ElectricCar class that inherits from the Car class and has an additional attribute battery_size."
   ]
  },
  {
   "cell_type": "code",
   "execution_count": 15,
   "id": "e0782b04",
   "metadata": {},
   "outputs": [
    {
     "name": "stdout",
     "output_type": "stream",
     "text": [
      "Tesla Model S\n",
      "Model S\n",
      "85 KWH\n"
     ]
    }
   ],
   "source": [
    "class Car:\n",
    "    def __init__(self, brand, model):\n",
    "        self.brand = brand\n",
    "        self.model = model\n",
    "    \n",
    "    def full_name(self):\n",
    "        return f\"{self.brand} {self.model}\"\n",
    "\n",
    "class ElectricCar(Car):\n",
    "    def __init__(self, brand, model, battery_size):\n",
    "        super().__init__(brand, model)\n",
    "        self.battery_size = battery_size\n",
    "\n",
    "my_tesla = ElectricCar('Tesla', 'Model S', '85 KWH')\n",
    "\n",
    "print(my_tesla.full_name())\n",
    "print(my_tesla.model)\n",
    "print(my_tesla.battery_size)"
   ]
  },
  {
   "cell_type": "markdown",
   "id": "beca190b",
   "metadata": {},
   "source": [
    "## 4. Encapsulation"
   ]
  },
  {
   "cell_type": "markdown",
   "id": "39e57e74",
   "metadata": {},
   "source": [
    "Problem: Modify the Car class to encapsulate the brand attribute, making it private, and provide a getter method for it."
   ]
  },
  {
   "cell_type": "code",
   "execution_count": null,
   "id": "ceba0ef9",
   "metadata": {},
   "outputs": [
    {
     "name": "stdout",
     "output_type": "stream",
     "text": [
      "Tesla Model S\n",
      "Model S\n",
      "Tesla\n"
     ]
    }
   ],
   "source": [
    "class Car:\n",
    "    def __init__(self, brand, model):\n",
    "        self.__brand = brand\n",
    "        self.model = model\n",
    "    \n",
    "    def get_brand(self):\n",
    "        return self.__brand\n",
    "    \n",
    "    def full_name(self):\n",
    "        return f\"{self.__brand} {self.model}\"\n",
    "\n",
    "class ElectricCar(Car):\n",
    "    def __init__(self, brand, model, battery_size):\n",
    "        super().__init__(brand, model)\n",
    "        self.battery_size = battery_size\n",
    "\n",
    "\n",
    "my_tesla = ElectricCar('Tesla', 'Model S', '85 KWH')\n",
    "\n",
    "print(my_tesla.full_name())\n",
    "print(my_tesla.model)\n",
    "#print(my_tesla.brand) -> This way won't work as we have made the self.brand as private.\n",
    "print(my_tesla.get_brand())"
   ]
  },
  {
   "cell_type": "markdown",
   "id": "4ac15990",
   "metadata": {},
   "source": [
    "* **Getter** → A method to **access (read)** the value of a private attribute.\n",
    "* **Setter** → A method to **update (write/change)** the value of a private attribute with rules/validation.\n",
    "* Purpose → They provide **encapsulation** (control over how attributes are read or modified).\n",
    "* In Python → Done using methods (`get_x`, `set_x`) or more cleanly with `@property` and `@x.setter`.\n",
    "\n",
    "Would you like me to also give you a **one-line example** showing both getter and setter?\n"
   ]
  },
  {
   "cell_type": "code",
   "execution_count": 33,
   "id": "ab7a8b39",
   "metadata": {},
   "outputs": [
    {
     "name": "stdout",
     "output_type": "stream",
     "text": [
      "Model S\n",
      "Tesla\n",
      "TESLA\n"
     ]
    }
   ],
   "source": [
    "class Car:\n",
    "    def __init__(self, brand, model):\n",
    "        self.__brand = brand\n",
    "        self.model = model\n",
    "    \n",
    "    def get_brand(self):\n",
    "        return self.__brand\n",
    "    \n",
    "    def set_brand(self, brand):\n",
    "        if brand:\n",
    "            self.__brand = brand\n",
    "        else:\n",
    "            print('Provide a valid value')\n",
    "\n",
    "    def full_name(self):\n",
    "        return f\"{self.__brand} {self.model}\"\n",
    "\n",
    "class ElectricCar(Car):\n",
    "    def __init__(self, brand, model, battery_size):\n",
    "        super().__init__(brand, model)\n",
    "        self.battery_size = battery_size\n",
    "\n",
    "\n",
    "my_tesla = ElectricCar('Tesla', 'Model S', '85 KWH')\n",
    "\n",
    "#print(my_tesla.full_name())\n",
    "print(my_tesla.model)\n",
    "print(my_tesla.get_brand())\n",
    "my_tesla.set_brand('TESLA')\n",
    "print(my_tesla.get_brand())\n",
    "#print(my_tesla.brand) -> This way won't work as we have made the self.brand as private.\n",
    "#print(my_tesla.get_brand())"
   ]
  },
  {
   "cell_type": "markdown",
   "id": "64dddaa8",
   "metadata": {},
   "source": [
    "## 5. Polymorphism"
   ]
  },
  {
   "cell_type": "markdown",
   "id": "6126cb5d",
   "metadata": {},
   "source": [
    "Problem: Demonstrate polymorphism by defining a method fuel_type in both Car and ElectricCar classes, but with different behaviors."
   ]
  },
  {
   "cell_type": "code",
   "execution_count": 35,
   "id": "b2712a09",
   "metadata": {},
   "outputs": [
    {
     "name": "stdout",
     "output_type": "stream",
     "text": [
      "Model S\n",
      "Electric Charge\n",
      "Petrol or Diesel\n"
     ]
    }
   ],
   "source": [
    "class Car:\n",
    "    def __init__(self, brand, model):\n",
    "        self.__brand = brand\n",
    "        self.model = model\n",
    "    \n",
    "    def get_brand(self):\n",
    "        return self.__brand\n",
    "    \n",
    "    def set_brand(self, brand):\n",
    "        if brand:\n",
    "            self.__brand = brand\n",
    "        else:\n",
    "            print('Provide a valid value')\n",
    "\n",
    "    def full_name(self):\n",
    "        return f\"{self.__brand} {self.model}\"\n",
    "    \n",
    "    def fuel_type(self):\n",
    "        return f\"Petrol or Diesel\"\n",
    "\n",
    "class ElectricCar(Car):\n",
    "    def __init__(self, brand, model, battery_size):\n",
    "        super().__init__(brand, model)\n",
    "        self.battery_size = battery_size\n",
    "\n",
    "    def fuel_type(self):\n",
    "        return f\"Electric Charge\"\n",
    "\n",
    "my_tesla = ElectricCar('Tesla', 'Model S', '85 KWH')\n",
    "safari = Car('Tata', 'Safari')\n",
    "\n",
    "print(my_tesla.model)\n",
    "print(my_tesla.fuel_type())\n",
    "print(safari.fuel_type())\n"
   ]
  },
  {
   "cell_type": "markdown",
   "id": "ff874d3f",
   "metadata": {},
   "source": [
    "## 6. Class Variables"
   ]
  },
  {
   "cell_type": "markdown",
   "id": "4fa753f0",
   "metadata": {},
   "source": [
    "Problem: Add a class variable to Car that keeps track of the number of cars created."
   ]
  },
  {
   "cell_type": "code",
   "execution_count": null,
   "id": "c6fc949c",
   "metadata": {},
   "outputs": [
    {
     "name": "stdout",
     "output_type": "stream",
     "text": [
      "4\n"
     ]
    }
   ],
   "source": [
    "class Car:\n",
    "    total_car = 0\n",
    "\n",
    "    def __init__(self, brand, model):\n",
    "        self.__brand = brand\n",
    "        self.model = model\n",
    "        Car.total_car += 1\n",
    "    \n",
    "    def get_brand(self):\n",
    "        return self.__brand\n",
    "    \n",
    "    def set_brand(self, brand):\n",
    "        if brand:\n",
    "            self.__brand = brand\n",
    "        else:\n",
    "            print('Provide a valid value')\n",
    "\n",
    "    def full_name(self):\n",
    "        return f\"{self.__brand} {self.model}\"\n",
    "    \n",
    "    def fuel_type(self):\n",
    "        return f\"Petrol or Diesel\"\n",
    "\n",
    "class ElectricCar(Car):\n",
    "    def __init__(self, brand, model, battery_size):\n",
    "        super().__init__(brand, model)\n",
    "        self.battery_size = battery_size\n",
    "\n",
    "    def fuel_type(self):\n",
    "        return f\"Electric Charge\"\n",
    "\n",
    "my_tesla = ElectricCar('Tesla', 'Model S', '85 KWH')\n",
    "safari = Car('Tata', 'Safari')\n",
    "safari = Car('Tata', 'Safari')\n",
    "safari = Car('Tata', 'Safari')\n",
    "\n",
    "print(Car.total_car)    # Note that here total_car is a class variable and hence you can access this info just by class.variabele_name"
   ]
  },
  {
   "cell_type": "markdown",
   "id": "3254bb42",
   "metadata": {},
   "source": [
    "## 7. Static Method"
   ]
  },
  {
   "cell_type": "markdown",
   "id": "d41055fa",
   "metadata": {},
   "source": [
    "Problem: Add a static method to the Car class that returns a general description of a car."
   ]
  },
  {
   "cell_type": "markdown",
   "id": "e90a26a3",
   "metadata": {},
   "source": [
    "- A static method is a method inside a class that belongs to the class itself, not to any object of the class.\n",
    "- It doesn’t take self (object reference) or cls (class reference) as the first argument.\n",
    "- It’s just a normal function that happens to live inside a class for logical grouping.\n",
    "- You call it with either the class name or an object, but it doesn’t care about either"
   ]
  },
  {
   "cell_type": "code",
   "execution_count": 55,
   "id": "9a7d8326",
   "metadata": {},
   "outputs": [
    {
     "name": "stdout",
     "output_type": "stream",
     "text": [
      "Cars are means of transport\n"
     ]
    }
   ],
   "source": [
    "class Car:\n",
    "    total_car = 0\n",
    "\n",
    "    def __init__(self, brand, model):\n",
    "        self.__brand = brand\n",
    "        self.model = model\n",
    "        Car.total_car += 1\n",
    "    \n",
    "    def get_brand(self):\n",
    "        return self.__brand\n",
    "    \n",
    "    def set_brand(self, brand):\n",
    "        if brand:\n",
    "            self.__brand = brand\n",
    "        else:\n",
    "            print('Provide a valid value')\n",
    "\n",
    "    def full_name(self):\n",
    "        return f\"{self.__brand} {self.model}\"\n",
    "    \n",
    "    def fuel_type(self):\n",
    "        return f\"Petrol or Diesel\"\n",
    "    \n",
    "    @staticmethod\n",
    "    def general_description():\n",
    "        return f'Cars are means of transport'\n",
    "\n",
    "class ElectricCar(Car):\n",
    "    def __init__(self, brand, model, battery_size):\n",
    "        super().__init__(brand, model)\n",
    "        self.battery_size = battery_size\n",
    "\n",
    "    def fuel_type(self):\n",
    "        return f\"Electric Charge\"\n",
    "\n",
    "my_tesla = ElectricCar('Tesla', 'Model S', '85 KWH')\n",
    "print(Car.general_description())"
   ]
  },
  {
   "cell_type": "markdown",
   "id": "933d2228",
   "metadata": {},
   "source": [
    "- Decorators are used when we have to enhances the functionality of methods, or implement some rules, \n",
    "- A decorator is a special function that takes another function (or method) as input, adds some extra functionality to it, and returns the modified function.\n",
    "- In short: “wraps one function inside another” to extend its behavior.\n",
    "- This is a very important concept because decorators are heavily used in OOP in Python (@property, @staticmethod, @classmethod are all decorators!). Let’s go step by step."
   ]
  },
  {
   "cell_type": "markdown",
   "id": "2d4346d7",
   "metadata": {},
   "source": [
    "## 8. Property Decorators"
   ]
  },
  {
   "cell_type": "markdown",
   "id": "8fed887e",
   "metadata": {},
   "source": [
    "Problem: Use a property decorator in the Car class to make the model attribute read-only."
   ]
  },
  {
   "cell_type": "markdown",
   "id": "cbbc81e8",
   "metadata": {},
   "source": [
    "- first we need to make it private, so that nobody else should be using it.\n",
    "- to make it read only, we can implement it by creating methods and with the help of a decorator known as **@property**"
   ]
  },
  {
   "cell_type": "code",
   "execution_count": 63,
   "id": "79e691e1",
   "metadata": {},
   "outputs": [
    {
     "name": "stdout",
     "output_type": "stream",
     "text": [
      "Model S\n"
     ]
    }
   ],
   "source": [
    "class Car:\n",
    "    total_car = 0\n",
    "\n",
    "    def __init__(self, brand, model):\n",
    "        self.__brand = brand\n",
    "        self.__model = model\n",
    "        Car.total_car += 1\n",
    "    \n",
    "    def get_brand(self):\n",
    "        return self.__brand\n",
    "    \n",
    "    def set_brand(self, brand):\n",
    "        if brand:\n",
    "            self.__brand = brand\n",
    "        else:\n",
    "            print('Provide a valid value')\n",
    "\n",
    "    def full_name(self):\n",
    "        return f\"{self.__brand} {self.__model}\"\n",
    "    \n",
    "    def fuel_type(self):\n",
    "        return f\"Petrol or Diesel\"\n",
    "    \n",
    "    @staticmethod\n",
    "    def general_description():\n",
    "        return f'Cars are means of transport'\n",
    "    \n",
    "    @property\n",
    "    def model(self):\n",
    "        return self.__model\n",
    "\n",
    "class ElectricCar(Car):\n",
    "    def __init__(self, brand, model, battery_size):\n",
    "        super().__init__(brand, model)\n",
    "        self.battery_size = battery_size\n",
    "\n",
    "    def fuel_type(self):\n",
    "        return f\"Electric Charge\"\n",
    "\n",
    "my_tesla = ElectricCar('Tesla', 'Model S', '85 KWH')\n",
    "print(my_tesla.model)"
   ]
  },
  {
   "cell_type": "markdown",
   "id": "02237904",
   "metadata": {},
   "source": [
    "## 9. Class Inheritance and isinstance() Function"
   ]
  },
  {
   "cell_type": "markdown",
   "id": "0085a2c4",
   "metadata": {},
   "source": [
    "Problem: Demonstrate the use of isinstance() to check if my_tesla is an instance of Car and ElectricCar."
   ]
  },
  {
   "cell_type": "code",
   "execution_count": 67,
   "id": "49a8ef23",
   "metadata": {},
   "outputs": [
    {
     "name": "stdout",
     "output_type": "stream",
     "text": [
      "True\n",
      "True\n"
     ]
    }
   ],
   "source": [
    "class Car:\n",
    "    total_car = 0\n",
    "\n",
    "    def __init__(self, brand, model):\n",
    "        self.__brand = brand\n",
    "        self.__model = model\n",
    "        Car.total_car += 1\n",
    "    \n",
    "    def get_brand(self):\n",
    "        return self.__brand\n",
    "    \n",
    "    def set_brand(self, brand):\n",
    "        if brand:\n",
    "            self.__brand = brand\n",
    "        else:\n",
    "            print('Provide a valid value')\n",
    "\n",
    "    def full_name(self):\n",
    "        return f\"{self.__brand} {self.__model}\"\n",
    "    \n",
    "    def fuel_type(self):\n",
    "        return f\"Petrol or Diesel\"\n",
    "    \n",
    "    @staticmethod\n",
    "    def general_description():\n",
    "        return f'Cars are means of transport'\n",
    "    \n",
    "    @property\n",
    "    def model(self):\n",
    "        return self.__model\n",
    "\n",
    "class ElectricCar(Car):\n",
    "    def __init__(self, brand, model, battery_size):\n",
    "        super().__init__(brand, model)\n",
    "        self.battery_size = battery_size\n",
    "\n",
    "    def fuel_type(self):\n",
    "        return f\"Electric Charge\"\n",
    "\n",
    "my_tesla = ElectricCar('Tesla', 'Model S', '85 KWH')\n",
    "\n",
    "print(isinstance(my_tesla, Car))\n",
    "print(isinstance(my_tesla, ElectricCar))"
   ]
  },
  {
   "cell_type": "markdown",
   "id": "80d72c4a",
   "metadata": {},
   "source": [
    "## 10. Multiple Inheritance"
   ]
  },
  {
   "cell_type": "markdown",
   "id": "7413ea7d",
   "metadata": {},
   "source": [
    "Problem: Create two classes Battery and Engine, and let the ElectricCar class inherit from both, demonstrating multiple inheritance."
   ]
  },
  {
   "cell_type": "code",
   "execution_count": 68,
   "id": "c7f7bbcb",
   "metadata": {},
   "outputs": [
    {
     "name": "stdout",
     "output_type": "stream",
     "text": [
      "this is battery\n",
      "this is engine\n"
     ]
    }
   ],
   "source": [
    "class Car:\n",
    "    total_car = 0\n",
    "\n",
    "    def __init__(self, brand, model):\n",
    "        self.__brand = brand\n",
    "        self.__model = model\n",
    "        Car.total_car += 1\n",
    "    \n",
    "    def get_brand(self):\n",
    "        return self.__brand\n",
    "    \n",
    "    def set_brand(self, brand):\n",
    "        if brand:\n",
    "            self.__brand = brand\n",
    "        else:\n",
    "            print('Provide a valid value')\n",
    "\n",
    "    def full_name(self):\n",
    "        return f\"{self.__brand} {self.__model}\"\n",
    "    \n",
    "    def fuel_type(self):\n",
    "        return f\"Petrol or Diesel\"\n",
    "    \n",
    "    @staticmethod\n",
    "    def general_description():\n",
    "        return f'Cars are means of transport'\n",
    "    \n",
    "    @property\n",
    "    def model(self):\n",
    "        return self.__model\n",
    "\n",
    "class ElectricCar(Car):\n",
    "    def __init__(self, brand, model, battery_size):\n",
    "        super().__init__(brand, model)\n",
    "        self.battery_size = battery_size\n",
    "\n",
    "    def fuel_type(self):\n",
    "        return f\"Electric Charge\"\n",
    "\n",
    "class Battery:\n",
    "    def battery_info(self):\n",
    "        return 'this is battery'\n",
    "\n",
    "class Engine:\n",
    "    def engine_info(self):\n",
    "        return 'this is engine'\n",
    "\n",
    "class ElectricCar2(Car, Battery, Engine):\n",
    "    pass\n",
    "\n",
    "\n",
    "my_new_tesla = ElectricCar2('Tesla', 'Model S')\n",
    "print(my_new_tesla.battery_info())\n",
    "print(my_new_tesla.engine_info())"
   ]
  }
 ],
 "metadata": {
  "kernelspec": {
   "display_name": "venv",
   "language": "python",
   "name": "python3"
  },
  "language_info": {
   "codemirror_mode": {
    "name": "ipython",
    "version": 3
   },
   "file_extension": ".py",
   "mimetype": "text/x-python",
   "name": "python",
   "nbconvert_exporter": "python",
   "pygments_lexer": "ipython3",
   "version": "3.11.9"
  }
 },
 "nbformat": 4,
 "nbformat_minor": 5
}
