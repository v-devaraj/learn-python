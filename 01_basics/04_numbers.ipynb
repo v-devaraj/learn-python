{
 "cells": [
  {
   "cell_type": "markdown",
   "id": "a33dd1b4",
   "metadata": {},
   "source": [
    "# Numbers"
   ]
  },
  {
   "cell_type": "markdown",
   "id": "a7a67999",
   "metadata": {},
   "source": [
    "### Basics"
   ]
  },
  {
   "cell_type": "markdown",
   "id": "e8be1ad2",
   "metadata": {},
   "source": [
    "- Make sure to add parenthesis to make it clear about the operational precedents\n",
    "- For more readings go through PEMDAS"
   ]
  },
  {
   "cell_type": "markdown",
   "id": "391859cc",
   "metadata": {},
   "source": [
    "- Operator Overloading:\n",
    "    - allows the redefinition of how standard operators (like +, -, *, ==, etc.) behave when applied to user-defined objects.\n",
    "    - Example: '+' adds if it is operated between 2 numbers and concatenate between 2 strings"
   ]
  },
  {
   "cell_type": "code",
   "execution_count": 1,
   "id": "4d24ec73",
   "metadata": {},
   "outputs": [
    {
     "name": "stdout",
     "output_type": "stream",
     "text": [
      "7\n",
      "catmat\n"
     ]
    }
   ],
   "source": [
    "print(3 + 4)\n",
    "print('cat' + 'mat')"
   ]
  },
  {
   "cell_type": "code",
   "execution_count": 3,
   "id": "0909b70d",
   "metadata": {},
   "outputs": [
    {
     "data": {
      "text/plain": [
       "(2, 3, 4)"
      ]
     },
     "execution_count": 3,
     "metadata": {},
     "output_type": "execute_result"
    }
   ],
   "source": [
    "x = 2\n",
    "y = 3\n",
    "z = 4\n",
    "x, y, z # outputs as tuple"
   ]
  },
  {
   "cell_type": "code",
   "execution_count": 4,
   "id": "ecf6e535",
   "metadata": {},
   "outputs": [
    {
     "data": {
      "text/plain": [
       "(3, 6, 0)"
      ]
     },
     "execution_count": 4,
     "metadata": {},
     "output_type": "execute_result"
    }
   ],
   "source": [
    "x+1, y*2, z % 2"
   ]
  },
  {
   "cell_type": "code",
   "execution_count": null,
   "id": "743472e4",
   "metadata": {},
   "outputs": [],
   "source": [
    "result = 1/ 3.0\n",
    "print(result)\n",
    "print(result)"
   ]
  },
  {
   "cell_type": "markdown",
   "id": "b42a18ec",
   "metadata": {},
   "source": [
    "- Just as a homework, go through the difference in the following expressions:\n",
    "    - repr('chai'), \n",
    "    - str('chai') and \n",
    "    - print('chai')"
   ]
  },
  {
   "cell_type": "markdown",
   "id": "fbb633aa",
   "metadata": {},
   "source": [
    "### Comparison"
   ]
  },
  {
   "cell_type": "markdown",
   "id": "ce6f76a6",
   "metadata": {},
   "source": [
    "- all comparison operators are available"
   ]
  },
  {
   "cell_type": "code",
   "execution_count": 8,
   "id": "d43c89b6",
   "metadata": {},
   "outputs": [
    {
     "name": "stdout",
     "output_type": "stream",
     "text": [
      "True\n",
      "True\n"
     ]
    }
   ],
   "source": [
    "print(x < y < z)\n",
    "print(x < y and y < z)"
   ]
  },
  {
   "cell_type": "code",
   "execution_count": 9,
   "metadata": {},
   "outputs": [
    {
     "name": "stdout",
     "output_type": "stream",
     "text": [
      "False\n",
      "False\n"
     ]
    }
   ],
   "source": [
    "print(1 == 2 < 3)\n",
    "print(1 == 2 and 2 < 3)"
   ]
  },
  {
   "cell_type": "markdown",
   "id": "fc512642",
   "metadata": {},
   "source": [
    "### Preceision"
   ]
  },
  {
   "cell_type": "code",
   "execution_count": 10,
   "id": "482148c8",
   "metadata": {},
   "outputs": [],
   "source": [
    "import math"
   ]
  },
  {
   "cell_type": "code",
   "execution_count": 12,
   "id": "e678712d",
   "metadata": {},
   "outputs": [
    {
     "name": "stdout",
     "output_type": "stream",
     "text": [
      "3\n",
      "-4\n",
      "2\n",
      "-2\n"
     ]
    }
   ],
   "source": [
    "print(math.floor(3.5))\n",
    "print(math.floor(-3.5))\n",
    "print(math.trunc(2.8)) # trunc always takes towards '0'\n",
    "print(math.trunc(-2.8)) # trunc always takes towards '0'"
   ]
  },
  {
   "cell_type": "markdown",
   "id": "e9973da5",
   "metadata": {},
   "source": [
    "### Complex Numbers"
   ]
  },
  {
   "cell_type": "code",
   "execution_count": 13,
   "id": "60fd240e",
   "metadata": {},
   "outputs": [
    {
     "data": {
      "text/plain": [
       "(2+1j)"
      ]
     },
     "execution_count": 13,
     "metadata": {},
     "output_type": "execute_result"
    }
   ],
   "source": [
    "2 + 1j"
   ]
  },
  {
   "cell_type": "code",
   "execution_count": 14,
   "metadata": {},
   "outputs": [
    {
     "data": {
      "text/plain": [
       "(6+3j)"
      ]
     },
     "execution_count": 14,
     "metadata": {},
     "output_type": "execute_result"
    }
   ],
   "source": [
    "(2 + 1j) * 3"
   ]
  },
  {
   "cell_type": "code",
   "execution_count": 16,
   "id": "a5778dc5",
   "metadata": {},
   "outputs": [
    {
     "data": {
      "text/plain": [
       "16"
      ]
     },
     "execution_count": 16,
     "metadata": {},
     "output_type": "execute_result"
    }
   ],
   "source": [
    "# Octal Number System: Base is 8\n",
    "0o20    # it always start with 0 and then o"
   ]
  },
  {
   "cell_type": "code",
   "execution_count": 18,
   "id": "4ccacab1",
   "metadata": {},
   "outputs": [
    {
     "data": {
      "text/plain": [
       "255"
      ]
     },
     "execution_count": 18,
     "metadata": {},
     "output_type": "execute_result"
    }
   ],
   "source": [
    "# Hexadecimal:\n",
    "0xFF    # FF used in colour coding"
   ]
  },
  {
   "cell_type": "code",
   "execution_count": 19,
   "id": "cc2115db",
   "metadata": {},
   "outputs": [
    {
     "data": {
      "text/plain": [
       "8"
      ]
     },
     "execution_count": 19,
     "metadata": {},
     "output_type": "execute_result"
    }
   ],
   "source": [
    "# binary literals\n",
    "0b1000"
   ]
  },
  {
   "cell_type": "markdown",
   "id": "6ef34be4",
   "metadata": {},
   "source": [
    "- But you should use methods for any similar conversions:"
   ]
  },
  {
   "cell_type": "code",
   "execution_count": 23,
   "id": "ed725dd7",
   "metadata": {},
   "outputs": [
    {
     "data": {
      "text/plain": [
       "'0o100'"
      ]
     },
     "execution_count": 23,
     "metadata": {},
     "output_type": "execute_result"
    }
   ],
   "source": [
    "oct(64)"
   ]
  },
  {
   "cell_type": "code",
   "execution_count": 21,
   "id": "a036a2f2",
   "metadata": {},
   "outputs": [
    {
     "data": {
      "text/plain": [
       "'0x40'"
      ]
     },
     "execution_count": 21,
     "metadata": {},
     "output_type": "execute_result"
    }
   ],
   "source": [
    "hex(64)"
   ]
  },
  {
   "cell_type": "code",
   "execution_count": 22,
   "id": "9060e81f",
   "metadata": {},
   "outputs": [
    {
     "data": {
      "text/plain": [
       "'0b1000000'"
      ]
     },
     "execution_count": 22,
     "metadata": {},
     "output_type": "execute_result"
    }
   ],
   "source": [
    "bin(64)"
   ]
  },
  {
   "cell_type": "markdown",
   "id": "21e69e13",
   "metadata": {},
   "source": [
    "- int(x, base) converts a string x into an integer.\n",
    "- By default, base = 10 (decimal system).\n",
    "- But you can specify another base (2, 8, 16, etc.)."
   ]
  },
  {
   "cell_type": "code",
   "execution_count": 26,
   "id": "37bfe417",
   "metadata": {},
   "outputs": [
    {
     "name": "stdout",
     "output_type": "stream",
     "text": [
      "52\n",
      "100\n",
      "4\n"
     ]
    }
   ],
   "source": [
    "print(int(\"64\", 8))     # Converts from Octadecimal\n",
    "print(int(\"64\", 16))    # Converts from Hexadecimal\n",
    "print(int(\"100\", 2))     # Converts from binary"
   ]
  },
  {
   "cell_type": "markdown",
   "id": "5a8dfc0e",
   "metadata": {},
   "source": [
    "### Bitwise operation"
   ]
  },
  {
   "cell_type": "code",
   "execution_count": 27,
   "id": "75d6b580",
   "metadata": {},
   "outputs": [
    {
     "data": {
      "text/plain": [
       "4"
      ]
     },
     "execution_count": 27,
     "metadata": {},
     "output_type": "execute_result"
    }
   ],
   "source": [
    "x = 1\n",
    "x << 2"
   ]
  },
  {
   "cell_type": "code",
   "execution_count": 29,
   "metadata": {},
   "outputs": [
    {
     "data": {
      "text/plain": [
       "3"
      ]
     },
     "execution_count": 29,
     "metadata": {},
     "output_type": "execute_result"
    }
   ],
   "source": [
    "# OR operation\n",
    "x | 2"
   ]
  },
  {
   "cell_type": "code",
   "execution_count": 31,
   "metadata": {},
   "outputs": [
    {
     "data": {
      "text/plain": [
       "1"
      ]
     },
     "execution_count": 31,
     "metadata": {},
     "output_type": "execute_result"
    }
   ],
   "source": [
    "x & 5"
   ]
  },
  {
   "cell_type": "markdown",
   "id": "c94fad9f",
   "metadata": {},
   "source": [
    "### Import methods"
   ]
  },
  {
   "cell_type": "markdown",
   "id": "42998f75",
   "metadata": {},
   "source": [
    "#### random"
   ]
  },
  {
   "cell_type": "code",
   "execution_count": 32,
   "metadata": {},
   "outputs": [],
   "source": [
    "import random"
   ]
  },
  {
   "cell_type": "code",
   "execution_count": 33,
   "id": "cec7f8fb",
   "metadata": {},
   "outputs": [
    {
     "data": {
      "text/plain": [
       "0.3369493347848336"
      ]
     },
     "execution_count": 33,
     "metadata": {},
     "output_type": "execute_result"
    }
   ],
   "source": [
    "random.random() # Provides a random value between 0 and 1"
   ]
  },
  {
   "cell_type": "code",
   "execution_count": 34,
   "id": "69e450b1",
   "metadata": {},
   "outputs": [
    {
     "data": {
      "text/plain": [
       "8"
      ]
     },
     "execution_count": 34,
     "metadata": {},
     "output_type": "execute_result"
    }
   ],
   "source": [
    "random.randint(1, 10)   # Gives a random int between 1 and 100 (exclusive)"
   ]
  },
  {
   "cell_type": "code",
   "execution_count": 41,
   "id": "af08d039",
   "metadata": {},
   "outputs": [
    {
     "data": {
      "text/plain": [
       "3"
      ]
     },
     "execution_count": 41,
     "metadata": {},
     "output_type": "execute_result"
    }
   ],
   "source": [
    "l1 = [1, 2, 3, 4, 5]\n",
    "random.choice(l1)   # Gives random values from the list"
   ]
  },
  {
   "cell_type": "code",
   "execution_count": 51,
   "id": "a8e747f3",
   "metadata": {},
   "outputs": [
    {
     "name": "stdout",
     "output_type": "stream",
     "text": [
      "None\n"
     ]
    },
    {
     "data": {
      "text/plain": [
       "[4, 3, 5, 1, 2]"
      ]
     },
     "execution_count": 51,
     "metadata": {},
     "output_type": "execute_result"
    }
   ],
   "source": [
    "print(random.shuffle(l1))   # Shuffles the sequence of elements in a dtype\n",
    "l1"
   ]
  },
  {
   "cell_type": "markdown",
   "id": "e054268e",
   "metadata": {},
   "source": [
    "#### decimal"
   ]
  },
  {
   "cell_type": "code",
   "execution_count": 52,
   "metadata": {},
   "outputs": [
    {
     "data": {
      "text/plain": [
       "5.551115123125783e-17"
      ]
     },
     "execution_count": 52,
     "metadata": {},
     "output_type": "execute_result"
    }
   ],
   "source": [
    "(0.1 + 0.1 + 0.1) - 0.3"
   ]
  },
  {
   "cell_type": "markdown",
   "id": "a2223a40",
   "metadata": {},
   "source": [
    "- There are some issues here when working with decimal or precision\n",
    "- This can be solved by importing decimal module"
   ]
  },
  {
   "cell_type": "code",
   "execution_count": 53,
   "id": "65e3df5d",
   "metadata": {},
   "outputs": [],
   "source": [
    "from decimal import Decimal"
   ]
  },
  {
   "cell_type": "code",
   "execution_count": 54,
   "metadata": {},
   "outputs": [
    {
     "data": {
      "text/plain": [
       "Decimal('0.0')"
      ]
     },
     "execution_count": 54,
     "metadata": {},
     "output_type": "execute_result"
    }
   ],
   "source": [
    "Decimal('0.1') + Decimal('0.1') + Decimal('0.1') - Decimal('0.3')"
   ]
  },
  {
   "cell_type": "markdown",
   "id": "e8b17d52",
   "metadata": {},
   "source": [
    "- Homework: Read more about 'Decimal context manager'"
   ]
  },
  {
   "cell_type": "code",
   "execution_count": 55,
   "metadata": {},
   "outputs": [],
   "source": [
    "#Similarly we can import fractions\n",
    "from fractions import Fraction"
   ]
  },
  {
   "cell_type": "code",
   "execution_count": 56,
   "metadata": {},
   "outputs": [
    {
     "data": {
      "text/plain": [
       "Fraction(2, 7)"
      ]
     },
     "execution_count": 56,
     "metadata": {},
     "output_type": "execute_result"
    }
   ],
   "source": [
    "my_fra = Fraction(2, 7)\n",
    "my_fra"
   ]
  },
  {
   "cell_type": "markdown",
   "id": "1ea17785",
   "metadata": {},
   "source": [
    "# Sets"
   ]
  },
  {
   "cell_type": "code",
   "execution_count": 57,
   "id": "00cc29a0",
   "metadata": {},
   "outputs": [
    {
     "name": "stdout",
     "output_type": "stream",
     "text": [
      "{1, 3}\n",
      "{1, 2, 3, 4, 7}\n",
      "set()\n"
     ]
    }
   ],
   "source": [
    "setone = {1, 2, 3, 4}\n",
    "print(setone & {1, 3})  # intersection\n",
    "print(setone | {1, 3, 7})   # union\n",
    "print(setone - {1, 2, 3, 4})    # difference"
   ]
  },
  {
   "cell_type": "markdown",
   "id": "2911039e",
   "metadata": {},
   "source": [
    "# Boolean"
   ]
  },
  {
   "cell_type": "code",
   "execution_count": 61,
   "id": "9ce636d4",
   "metadata": {},
   "outputs": [
    {
     "name": "stdout",
     "output_type": "stream",
     "text": [
      "<class 'bool'>\n",
      "True\n",
      "True\n"
     ]
    }
   ],
   "source": [
    "print(type(True))\n",
    "print(True == 1)\n",
    "print(False == 0)"
   ]
  },
  {
   "cell_type": "code",
   "execution_count": 62,
   "id": "7e9d962c",
   "metadata": {},
   "outputs": [
    {
     "name": "stdout",
     "output_type": "stream",
     "text": [
      "3\n"
     ]
    }
   ],
   "source": [
    "print(True + 2)"
   ]
  },
  {
   "cell_type": "code",
   "execution_count": 63,
   "metadata": {},
   "outputs": [
    {
     "name": "stdout",
     "output_type": "stream",
     "text": [
      "False\n"
     ]
    },
    {
     "name": "stderr",
     "output_type": "stream",
     "text": [
      "<>:1: SyntaxWarning: \"is\" with a literal. Did you mean \"==\"?\n",
      "<>:1: SyntaxWarning: \"is\" with a literal. Did you mean \"==\"?\n",
      "C:\\Users\\devar\\AppData\\Local\\Temp\\ipykernel_6200\\1728233177.py:1: SyntaxWarning: \"is\" with a literal. Did you mean \"==\"?\n",
      "  print(True is 1)\n"
     ]
    }
   ],
   "source": [
    "print(True is 1)"
   ]
  },
  {
   "cell_type": "code",
   "execution_count": null,
   "id": "2baebeba",
   "metadata": {},
   "outputs": [],
   "source": []
  }
 ],
 "metadata": {
  "kernelspec": {
   "display_name": "Python (env)",
   "language": "python",
   "name": "env"
  },
  "language_info": {
   "codemirror_mode": {
    "name": "ipython",
    "version": 3
   },
   "file_extension": ".py",
   "mimetype": "text/x-python",
   "name": "python",
   "nbconvert_exporter": "python",
   "pygments_lexer": "ipython3",
   "version": "3.11.9"
  }
 },
 "nbformat": 4,
 "nbformat_minor": 5
}
