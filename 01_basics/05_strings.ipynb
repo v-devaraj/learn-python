{
 "cells": [
  {
   "cell_type": "markdown",
   "id": "94f6d8fa",
   "metadata": {},
   "source": [
    "# Strings"
   ]
  },
  {
   "cell_type": "code",
   "execution_count": 3,
   "id": "196cd009",
   "metadata": {},
   "outputs": [
    {
     "name": "stdout",
     "output_type": "stream",
     "text": [
      "M\n"
     ]
    }
   ],
   "source": [
    "chai = 'Masala Chai'\n",
    "print(chai[0]) # First character"
   ]
  },
  {
   "cell_type": "code",
   "execution_count": 4,
   "metadata": {},
   "outputs": [
    {
     "name": "stdout",
     "output_type": "stream",
     "text": [
      "Masala\n"
     ]
    }
   ],
   "source": [
    "# Slicing\n",
    "slice_chai = chai[:6]\n",
    "print(slice_chai)"
   ]
  },
  {
   "cell_type": "code",
   "execution_count": 7,
   "id": "aa6870ba",
   "metadata": {},
   "outputs": [
    {
     "name": "stdout",
     "output_type": "stream",
     "text": [
      "0246\n"
     ]
    }
   ],
   "source": [
    "# Slicing\n",
    "num_list  = '0123456789'\n",
    "print(num_list[:7:2])"
   ]
  },
  {
   "cell_type": "code",
   "execution_count": 10,
   "metadata": {},
   "outputs": [
    {
     "name": "stdout",
     "output_type": "stream",
     "text": [
      "masala chai\n",
      "MASALA CHAI\n"
     ]
    }
   ],
   "source": [
    "print(chai.lower())\n",
    "print(chai.upper())"
   ]
  },
  {
   "cell_type": "code",
   "execution_count": 11,
   "metadata": {},
   "outputs": [
    {
     "name": "stdout",
     "output_type": "stream",
     "text": [
      "Masala Chai\n"
     ]
    }
   ],
   "source": [
    "chai = '    Masala Chai'\n",
    "print(chai.strip())"
   ]
  },
  {
   "cell_type": "code",
   "execution_count": 12,
   "id": "60f76181",
   "metadata": {},
   "outputs": [
    {
     "name": "stdout",
     "output_type": "stream",
     "text": [
      "Ginger Chai\n"
     ]
    }
   ],
   "source": [
    "chai = \"Lemon Chai\"\n",
    "print(chai.replace('Lemon', 'Ginger'))"
   ]
  },
  {
   "cell_type": "code",
   "execution_count": 16,
   "metadata": {},
   "outputs": [
    {
     "name": "stdout",
     "output_type": "stream",
     "text": [
      "['Lemon', 'Ginger', 'Masal', 'Mint']\n"
     ]
    }
   ],
   "source": [
    "chai = 'Lemon, Ginger, Masal, Mint'\n",
    "print(chai.split(', '))"
   ]
  },
  {
   "cell_type": "code",
   "execution_count": 19,
   "metadata": {},
   "outputs": [
    {
     "name": "stdout",
     "output_type": "stream",
     "text": [
      "7\n"
     ]
    }
   ],
   "source": [
    "chai = 'Masala Chai'\n",
    "print(chai.find('Chai'))"
   ]
  },
  {
   "cell_type": "code",
   "execution_count": 20,
   "metadata": {},
   "outputs": [
    {
     "name": "stdout",
     "output_type": "stream",
     "text": [
      "3\n"
     ]
    }
   ],
   "source": [
    "chai = 'Masala Chai Chai Chai'\n",
    "print(chai.count('Chai'))"
   ]
  },
  {
   "cell_type": "code",
   "execution_count": null,
   "metadata": {},
   "outputs": [
    {
     "name": "stdout",
     "output_type": "stream",
     "text": [
      "I ordered 2 cups of Masala Chai\n"
     ]
    }
   ],
   "source": [
    "# Order Formating\n",
    "chai_type = 'Masala Chai'\n",
    "quantity = 2\n",
    "order = f'I ordered {quantity} cups of {chai_type}'\n",
    "print(order)"
   ]
  },
  {
   "cell_type": "code",
   "execution_count": 24,
   "id": "dd469c74",
   "metadata": {},
   "outputs": [
    {
     "name": "stdout",
     "output_type": "stream",
     "text": [
      "['Lemon', 'Masala', 'Ginger']\n",
      "Lemon Masala Ginger\n",
      "Lemon, Masala, Ginger\n",
      "<class 'str'>\n"
     ]
    }
   ],
   "source": [
    "# List to string\n",
    "chai_variety = ['Lemon', 'Masala', 'Ginger']\n",
    "print(chai_variety)\n",
    "print(\" \".join(chai_variety))\n",
    "print(\", \".join(chai_variety))\n",
    "print(type(\" \".join(chai_variety)))"
   ]
  },
  {
   "cell_type": "code",
   "execution_count": 27,
   "metadata": {},
   "outputs": [
    {
     "name": "stdout",
     "output_type": "stream",
     "text": [
      "Masala Chai Chai Chai\n",
      "21\n",
      "Masala Chai Chai Chai"
     ]
    }
   ],
   "source": [
    "print(chai)\n",
    "print(len(chai))\n",
    "\n",
    "for alphabet in chai:\n",
    "    print(alphabet, end = \"\")"
   ]
  },
  {
   "cell_type": "code",
   "execution_count": 29,
   "id": "cf2c5d0e",
   "metadata": {},
   "outputs": [
    {
     "data": {
      "text/plain": [
       "'He said, \"Masal chai is awesome\"'"
      ]
     },
     "execution_count": 29,
     "metadata": {},
     "output_type": "execute_result"
    }
   ],
   "source": [
    "# Escape character:\n",
    "chai = \"He said, \\\"Masal chai is awesome\\\"\"\n",
    "chai"
   ]
  },
  {
   "cell_type": "markdown",
   "id": "7e71321d",
   "metadata": {},
   "source": [
    "- you may also use, r\"....\" which helps in showing the row string as it is"
   ]
  },
  {
   "cell_type": "code",
   "execution_count": 31,
   "id": "6a99fb5a",
   "metadata": {},
   "outputs": [
    {
     "name": "stdout",
     "output_type": "stream",
     "text": [
      "True\n"
     ]
    }
   ],
   "source": [
    "chai = 'Masala Chai'\n",
    "print('Masala' in chai)"
   ]
  },
  {
   "cell_type": "code",
   "execution_count": null,
   "id": "325defe9",
   "metadata": {},
   "outputs": [],
   "source": []
  },
  {
   "cell_type": "code",
   "execution_count": null,
   "id": "3250cbcb",
   "metadata": {},
   "outputs": [],
   "source": []
  },
  {
   "cell_type": "code",
   "execution_count": null,
   "id": "4f04a2a8",
   "metadata": {},
   "outputs": [],
   "source": []
  },
  {
   "cell_type": "code",
   "execution_count": null,
   "metadata": {},
   "outputs": [],
   "source": []
  },
  {
   "cell_type": "code",
   "execution_count": null,
   "id": "02c523b1",
   "metadata": {},
   "outputs": [],
   "source": []
  },
  {
   "cell_type": "code",
   "execution_count": null,
   "id": "dd9be083",
   "metadata": {},
   "outputs": [],
   "source": []
  },
  {
   "cell_type": "code",
   "execution_count": null,
   "id": "68bd1dfe",
   "metadata": {},
   "outputs": [],
   "source": []
  },
  {
   "cell_type": "code",
   "execution_count": null,
   "id": "e7d03023",
   "metadata": {},
   "outputs": [],
   "source": []
  }
 ],
 "metadata": {
  "kernelspec": {
   "display_name": "venv",
   "language": "python",
   "name": "python3"
  },
  "language_info": {
   "codemirror_mode": {
    "name": "ipython",
    "version": 3
   },
   "file_extension": ".py",
   "mimetype": "text/x-python",
   "name": "python",
   "nbconvert_exporter": "python",
   "pygments_lexer": "ipython3",
   "version": "3.11.9"
  }
 },
 "nbformat": 4,
 "nbformat_minor": 5
}
