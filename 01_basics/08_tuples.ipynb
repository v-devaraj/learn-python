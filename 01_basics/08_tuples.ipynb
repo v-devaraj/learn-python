{
 "cells": [
  {
   "cell_type": "markdown",
   "id": "5e453b3e",
   "metadata": {},
   "source": [
    "# Tuples"
   ]
  },
  {
   "cell_type": "code",
   "execution_count": 1,
   "id": "dbd84b91",
   "metadata": {},
   "outputs": [
    {
     "data": {
      "text/plain": [
       "('Black', 'Green', 'Oolong')"
      ]
     },
     "execution_count": 1,
     "metadata": {},
     "output_type": "execute_result"
    }
   ],
   "source": [
    "tea_types = ('Black', 'Green', 'Oolong')\n",
    "tea_types"
   ]
  },
  {
   "cell_type": "code",
   "execution_count": 3,
   "id": "d9b3863d",
   "metadata": {},
   "outputs": [
    {
     "name": "stdout",
     "output_type": "stream",
     "text": [
      "Oolong\n"
     ]
    }
   ],
   "source": [
    "# Indexing and slicing works well\n",
    "print(tea_types[2])"
   ]
  },
  {
   "cell_type": "code",
   "execution_count": 4,
   "metadata": {},
   "outputs": [
    {
     "data": {
      "text/plain": [
       "3"
      ]
     },
     "execution_count": 4,
     "metadata": {},
     "output_type": "execute_result"
    }
   ],
   "source": [
    "len(tea_types)"
   ]
  },
  {
   "cell_type": "code",
   "execution_count": 5,
   "metadata": {},
   "outputs": [
    {
     "ename": "TypeError",
     "evalue": "'tuple' object does not support item assignment",
     "output_type": "error",
     "traceback": [
      "\u001b[31m---------------------------------------------------------------------------\u001b[39m",
      "\u001b[31mTypeError\u001b[39m                                 Traceback (most recent call last)",
      "\u001b[36mCell\u001b[39m\u001b[36m \u001b[39m\u001b[32mIn[5]\u001b[39m\u001b[32m, line 1\u001b[39m\n\u001b[32m----> \u001b[39m\u001b[32m1\u001b[39m \u001b[43mtea_types\u001b[49m\u001b[43m[\u001b[49m\u001b[32;43m1\u001b[39;49m\u001b[43m]\u001b[49m = \u001b[33m'\u001b[39m\u001b[33mdudu\u001b[39m\u001b[33m'\u001b[39m   \u001b[38;5;66;03m# can't add new elements into it\u001b[39;00m\n",
      "\u001b[31mTypeError\u001b[39m: 'tuple' object does not support item assignment"
     ]
    }
   ],
   "source": [
    "tea_types[1] = 'dudu'   # can't add new elements into it"
   ]
  },
  {
   "cell_type": "code",
   "execution_count": 6,
   "id": "966f4654",
   "metadata": {},
   "outputs": [
    {
     "data": {
      "text/plain": [
       "('Herbal', 'Earl Grey')"
      ]
     },
     "execution_count": 6,
     "metadata": {},
     "output_type": "execute_result"
    }
   ],
   "source": [
    "more_tea = ('Herbal', 'Earl Grey')\n",
    "more_tea"
   ]
  },
  {
   "cell_type": "code",
   "execution_count": 7,
   "id": "0d376b29",
   "metadata": {},
   "outputs": [
    {
     "data": {
      "text/plain": [
       "('Herbal', 'Earl Grey', 'Black', 'Green', 'Oolong')"
      ]
     },
     "execution_count": 7,
     "metadata": {},
     "output_type": "execute_result"
    }
   ],
   "source": [
    "all_tea = more_tea + tea_types\n",
    "all_tea"
   ]
  },
  {
   "cell_type": "code",
   "execution_count": 8,
   "id": "2b4309a3",
   "metadata": {},
   "outputs": [
    {
     "name": "stdout",
     "output_type": "stream",
     "text": [
      "Yes\n"
     ]
    }
   ],
   "source": [
    "if 'Green' in all_tea:\n",
    "    print('Yes')\n",
    "else:\n",
    "    print('No')"
   ]
  },
  {
   "cell_type": "code",
   "execution_count": 9,
   "id": "ff440ad3",
   "metadata": {},
   "outputs": [
    {
     "data": {
      "text/plain": [
       "('Herbal', 'Earl Grey', 'Herbal')"
      ]
     },
     "execution_count": 9,
     "metadata": {},
     "output_type": "execute_result"
    }
   ],
   "source": [
    "more_tea = ('Herbal', 'Earl Grey', 'Herbal')\n",
    "more_tea"
   ]
  },
  {
   "cell_type": "code",
   "execution_count": 10,
   "id": "49f7fd47",
   "metadata": {},
   "outputs": [
    {
     "data": {
      "text/plain": [
       "2"
      ]
     },
     "execution_count": 10,
     "metadata": {},
     "output_type": "execute_result"
    }
   ],
   "source": [
    "more_tea.count('Herbal')"
   ]
  },
  {
   "cell_type": "code",
   "execution_count": 11,
   "id": "330138ce",
   "metadata": {},
   "outputs": [
    {
     "data": {
      "text/plain": [
       "0"
      ]
     },
     "execution_count": 11,
     "metadata": {},
     "output_type": "execute_result"
    }
   ],
   "source": [
    "more_tea.count('Herb')"
   ]
  },
  {
   "cell_type": "code",
   "execution_count": 12,
   "metadata": {},
   "outputs": [
    {
     "data": {
      "text/plain": [
       "('Black', 'Green', 'Oolong')"
      ]
     },
     "execution_count": 12,
     "metadata": {},
     "output_type": "execute_result"
    }
   ],
   "source": [
    "tea_types"
   ]
  },
  {
   "cell_type": "code",
   "execution_count": 13,
   "id": "5098baa2",
   "metadata": {},
   "outputs": [],
   "source": [
    "# Packing and unpacking\n",
    "(black, green, oolang) = tea_types"
   ]
  },
  {
   "cell_type": "code",
   "execution_count": 14,
   "id": "4bfe14c7",
   "metadata": {},
   "outputs": [
    {
     "name": "stdout",
     "output_type": "stream",
     "text": [
      "Black Green Oolong\n"
     ]
    }
   ],
   "source": [
    "print(black, green, oolang)"
   ]
  },
  {
   "cell_type": "code",
   "execution_count": null,
   "id": "63541ac4",
   "metadata": {},
   "outputs": [],
   "source": []
  }
 ],
 "metadata": {
  "kernelspec": {
   "display_name": "venv",
   "language": "python",
   "name": "python3"
  },
  "language_info": {
   "codemirror_mode": {
    "name": "ipython",
    "version": 3
   },
   "file_extension": ".py",
   "mimetype": "text/x-python",
   "name": "python",
   "nbconvert_exporter": "python",
   "pygments_lexer": "ipython3",
   "version": "3.11.9"
  }
 },
 "nbformat": 4,
 "nbformat_minor": 5
}
