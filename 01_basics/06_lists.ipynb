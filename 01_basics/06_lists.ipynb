{
 "cells": [
  {
   "cell_type": "markdown",
   "id": "5e208628",
   "metadata": {},
   "source": [
    "# Lists"
   ]
  },
  {
   "cell_type": "code",
   "execution_count": 1,
   "id": "deed87b1",
   "metadata": {},
   "outputs": [
    {
     "name": "stdout",
     "output_type": "stream",
     "text": [
      "['Black', 'Green', 'Oolong', 'White']\n"
     ]
    }
   ],
   "source": [
    "tea_varities = ['Black', 'Green', 'Oolong', 'White']\n",
    "print(tea_varities)"
   ]
  },
  {
   "cell_type": "code",
   "execution_count": null,
   "id": "51666600",
   "metadata": {},
   "outputs": [
    {
     "name": "stdout",
     "output_type": "stream",
     "text": [
      "White\n",
      "['Black', 'Green']\n"
     ]
    }
   ],
   "source": [
    "# Indexing and Slicing\n",
    "print(tea_varities[-1])\n",
    "print(tea_varities[:2])"
   ]
  },
  {
   "cell_type": "code",
   "execution_count": 5,
   "id": "7619e29d",
   "metadata": {},
   "outputs": [
    {
     "name": "stdout",
     "output_type": "stream",
     "text": [
      "['Black', 'Green', 'Oolong', 'Herbal']\n"
     ]
    }
   ],
   "source": [
    "tea_varities[3] = 'Herbal'\n",
    "print(tea_varities)"
   ]
  },
  {
   "cell_type": "code",
   "execution_count": 7,
   "id": "77beb8a9",
   "metadata": {},
   "outputs": [
    {
     "data": {
      "text/plain": [
       "['Black', 'Lemon', 'Oolong', 'Herbal']"
      ]
     },
     "execution_count": 7,
     "metadata": {},
     "output_type": "execute_result"
    }
   ],
   "source": [
    "tea_varities[1] = 'Lemon'\n",
    "tea_varities"
   ]
  },
  {
   "cell_type": "code",
   "execution_count": 8,
   "id": "d6723180",
   "metadata": {},
   "outputs": [
    {
     "data": {
      "text/plain": [
       "['Black', 'L', 'e', 'm', 'o', 'n', '_', 'n', 'e', 'w', 'Oolong', 'Herbal']"
      ]
     },
     "execution_count": 8,
     "metadata": {},
     "output_type": "execute_result"
    }
   ],
   "source": [
    "tea_varities[1:2] = 'Lemon_new'\n",
    "tea_varities"
   ]
  },
  {
   "cell_type": "code",
   "execution_count": 9,
   "id": "8a6ce2a9",
   "metadata": {},
   "outputs": [
    {
     "name": "stdout",
     "output_type": "stream",
     "text": [
      "['Black', 'Green', 'Oolong', 'White']\n"
     ]
    }
   ],
   "source": [
    "tea_varities = ['Black', 'Green', 'Oolong', 'White']\n",
    "print(tea_varities)"
   ]
  },
  {
   "cell_type": "code",
   "execution_count": 10,
   "id": "b3e50594",
   "metadata": {},
   "outputs": [
    {
     "data": {
      "text/plain": [
       "['Black', 'Lemon_new', 'Oolong', 'White']"
      ]
     },
     "execution_count": 10,
     "metadata": {},
     "output_type": "execute_result"
    }
   ],
   "source": [
    "tea_varities[1:2] = ['Lemon_new']\n",
    "tea_varities"
   ]
  },
  {
   "cell_type": "code",
   "execution_count": 11,
   "id": "316d0304",
   "metadata": {},
   "outputs": [
    {
     "name": "stdout",
     "output_type": "stream",
     "text": [
      "['Lemon_new', 'Oolong']\n"
     ]
    }
   ],
   "source": [
    "print(tea_varities[1:3])"
   ]
  },
  {
   "cell_type": "code",
   "execution_count": 12,
   "id": "4ad0ee50",
   "metadata": {},
   "outputs": [
    {
     "data": {
      "text/plain": [
       "['Black', 'Green', 'Masala', 'White']"
      ]
     },
     "execution_count": 12,
     "metadata": {},
     "output_type": "execute_result"
    }
   ],
   "source": [
    "tea_varities[1:3] = ['Green', 'Masala']\n",
    "tea_varities"
   ]
  },
  {
   "cell_type": "code",
   "execution_count": 13,
   "id": "92d8aa42",
   "metadata": {},
   "outputs": [
    {
     "name": "stdout",
     "output_type": "stream",
     "text": [
      "[]\n"
     ]
    }
   ],
   "source": [
    "print(tea_varities[1:1])"
   ]
  },
  {
   "cell_type": "code",
   "execution_count": 14,
   "id": "501be41a",
   "metadata": {},
   "outputs": [
    {
     "name": "stdout",
     "output_type": "stream",
     "text": [
      "['Black', 'test1', 'test2', 'Green', 'Masala', 'White']\n"
     ]
    }
   ],
   "source": [
    "tea_varities[1:1] = ['test1', 'test2']\n",
    "print(tea_varities)"
   ]
  },
  {
   "cell_type": "code",
   "execution_count": 16,
   "id": "8786e276",
   "metadata": {},
   "outputs": [
    {
     "data": {
      "text/plain": [
       "['test1', 'test2']"
      ]
     },
     "execution_count": 16,
     "metadata": {},
     "output_type": "execute_result"
    }
   ],
   "source": [
    "tea_varities[1:3]"
   ]
  },
  {
   "cell_type": "code",
   "execution_count": null,
   "id": "d49d10f9",
   "metadata": {},
   "outputs": [
    {
     "data": {
      "text/plain": [
       "['Black', 'Green', 'Masala', 'White']"
      ]
     },
     "execution_count": 17,
     "metadata": {},
     "output_type": "execute_result"
    }
   ],
   "source": [
    "tea_varities[1:3] = []  # Insert nothing\n",
    "tea_varities"
   ]
  },
  {
   "cell_type": "code",
   "execution_count": 18,
   "id": "7452d150",
   "metadata": {},
   "outputs": [
    {
     "name": "stdout",
     "output_type": "stream",
     "text": [
      "Black Green Masala White "
     ]
    }
   ],
   "source": [
    "for tea in tea_varities:\n",
    "    print(tea, end = \" \")"
   ]
  },
  {
   "cell_type": "code",
   "execution_count": 20,
   "id": "eef30741",
   "metadata": {},
   "outputs": [
    {
     "name": "stdout",
     "output_type": "stream",
     "text": [
      "False\n",
      "True\n"
     ]
    }
   ],
   "source": [
    "print(\"Masal\" in tea_varities)\n",
    "print(\"Masala\" in tea_varities)"
   ]
  },
  {
   "cell_type": "code",
   "execution_count": 21,
   "id": "b29d9649",
   "metadata": {},
   "outputs": [
    {
     "name": "stdout",
     "output_type": "stream",
     "text": [
      "Yes\n"
     ]
    }
   ],
   "source": [
    "if 'Masala' in tea_varities:\n",
    "    print(\"Yes\")\n",
    "else:\n",
    "    print(\"No\")"
   ]
  },
  {
   "cell_type": "code",
   "execution_count": 22,
   "id": "a027ebb2",
   "metadata": {},
   "outputs": [
    {
     "data": {
      "text/plain": [
       "['Black', 'Green', 'Masala', 'White', 'Oolong']"
      ]
     },
     "execution_count": 22,
     "metadata": {},
     "output_type": "execute_result"
    }
   ],
   "source": [
    "tea_varities.append('Oolong')\n",
    "tea_varities"
   ]
  },
  {
   "cell_type": "code",
   "execution_count": 23,
   "metadata": {},
   "outputs": [
    {
     "data": {
      "text/plain": [
       "'Oolong'"
      ]
     },
     "execution_count": 23,
     "metadata": {},
     "output_type": "execute_result"
    }
   ],
   "source": [
    "tea_varities.pop()  # pop"
   ]
  },
  {
   "cell_type": "code",
   "execution_count": 24,
   "metadata": {},
   "outputs": [
    {
     "data": {
      "text/plain": [
       "['Black', 'Green', 'Masala', 'White']"
      ]
     },
     "execution_count": 24,
     "metadata": {},
     "output_type": "execute_result"
    }
   ],
   "source": [
    "tea_varities"
   ]
  },
  {
   "cell_type": "code",
   "execution_count": 25,
   "id": "f9f6dc5b",
   "metadata": {},
   "outputs": [
    {
     "data": {
      "text/plain": [
       "['Black', 'Green', 'Masala', 'White', 'Oolong']"
      ]
     },
     "execution_count": 25,
     "metadata": {},
     "output_type": "execute_result"
    }
   ],
   "source": [
    "tea_varities.append('Oolong')\n",
    "tea_varities"
   ]
  },
  {
   "cell_type": "code",
   "execution_count": null,
   "metadata": {},
   "outputs": [
    {
     "data": {
      "text/plain": [
       "'White'"
      ]
     },
     "execution_count": 26,
     "metadata": {},
     "output_type": "execute_result"
    }
   ],
   "source": [
    "tea_varities.pop(3)"
   ]
  },
  {
   "cell_type": "code",
   "execution_count": 27,
   "id": "99eff763",
   "metadata": {},
   "outputs": [
    {
     "data": {
      "text/plain": [
       "['Black', 'Green', 'Masala', 'Oolong']"
      ]
     },
     "execution_count": 27,
     "metadata": {},
     "output_type": "execute_result"
    }
   ],
   "source": [
    "tea_varities"
   ]
  },
  {
   "cell_type": "code",
   "execution_count": 30,
   "id": "d2923b4c",
   "metadata": {},
   "outputs": [],
   "source": [
    "tea_varities[3:3] = ['White']"
   ]
  },
  {
   "cell_type": "code",
   "execution_count": 33,
   "id": "02f527c8",
   "metadata": {},
   "outputs": [
    {
     "data": {
      "text/plain": [
       "['Black', 'Green', 'Masala', 'White', 'Oolong']"
      ]
     },
     "execution_count": 33,
     "metadata": {},
     "output_type": "execute_result"
    }
   ],
   "source": [
    "tea_varities"
   ]
  },
  {
   "cell_type": "code",
   "execution_count": 34,
   "metadata": {},
   "outputs": [],
   "source": [
    "tea_varities.remove('White')"
   ]
  },
  {
   "cell_type": "code",
   "execution_count": 35,
   "id": "3f4b3dbc",
   "metadata": {},
   "outputs": [
    {
     "data": {
      "text/plain": [
       "['Black', 'Green', 'Masala', 'Oolong']"
      ]
     },
     "execution_count": 35,
     "metadata": {},
     "output_type": "execute_result"
    }
   ],
   "source": [
    "tea_varities"
   ]
  },
  {
   "cell_type": "code",
   "execution_count": 36,
   "id": "65db8086",
   "metadata": {},
   "outputs": [],
   "source": [
    "tea_varities.insert(1, 'White')"
   ]
  },
  {
   "cell_type": "code",
   "execution_count": 37,
   "metadata": {},
   "outputs": [
    {
     "data": {
      "text/plain": [
       "['Black', 'White', 'Green', 'Masala', 'Oolong']"
      ]
     },
     "execution_count": 37,
     "metadata": {},
     "output_type": "execute_result"
    }
   ],
   "source": [
    "tea_varities"
   ]
  },
  {
   "cell_type": "code",
   "execution_count": 38,
   "id": "dded094a",
   "metadata": {},
   "outputs": [],
   "source": [
    "tea_varities_copy = tea_varities.copy()"
   ]
  },
  {
   "cell_type": "markdown",
   "id": "5eb89991",
   "metadata": {},
   "source": [
    "- if we write the code as:\n",
    "    - tea_varities_copy = tea_varities\n",
    "    - here both tea_varities and tea_varities_copy will point to the same memory reference\n",
    "\n",
    "- whereas if we write the code as:\n",
    "    - tea_varities_copy = tea_varities.copy()\n",
    "    - here though both tea_varities and tea_varities_copy contains similar list, they are pointing to different memory reference. tea_varities.copy() creates a copy of the list at a different memory location."
   ]
  },
  {
   "cell_type": "code",
   "execution_count": 39,
   "metadata": {},
   "outputs": [
    {
     "data": {
      "text/plain": [
       "['Black', 'White', 'Green', 'Masala', 'Oolong']"
      ]
     },
     "execution_count": 39,
     "metadata": {},
     "output_type": "execute_result"
    }
   ],
   "source": [
    "tea_varities_copy"
   ]
  },
  {
   "cell_type": "code",
   "execution_count": 40,
   "id": "5d719a0f",
   "metadata": {},
   "outputs": [
    {
     "name": "stdout",
     "output_type": "stream",
     "text": [
      "['Black', 'White', 'Green', 'Masala', 'Oolong']\n",
      "['Black', 'White', 'Green', 'Masala', 'Oolong', 'Lemon']\n"
     ]
    }
   ],
   "source": [
    "tea_varities_copy.append('Lemon')\n",
    "print(tea_varities)\n",
    "print(tea_varities_copy)"
   ]
  },
  {
   "cell_type": "markdown",
   "id": "77863b5b",
   "metadata": {},
   "source": [
    "## List comprehension"
   ]
  },
  {
   "cell_type": "code",
   "execution_count": 42,
   "id": "fdd60fd8",
   "metadata": {},
   "outputs": [
    {
     "name": "stdout",
     "output_type": "stream",
     "text": [
      "range(0, 10)\n"
     ]
    }
   ],
   "source": [
    "print(range(10))"
   ]
  },
  {
   "cell_type": "code",
   "execution_count": 43,
   "metadata": {},
   "outputs": [
    {
     "data": {
      "text/plain": [
       "[0, 1, 2, 3, 4, 5, 6, 7, 8, 9]"
      ]
     },
     "execution_count": 43,
     "metadata": {},
     "output_type": "execute_result"
    }
   ],
   "source": [
    "list(range(10))"
   ]
  },
  {
   "cell_type": "code",
   "execution_count": 44,
   "metadata": {},
   "outputs": [
    {
     "data": {
      "text/plain": [
       "range(0, 10)"
      ]
     },
     "execution_count": 44,
     "metadata": {},
     "output_type": "execute_result"
    }
   ],
   "source": [
    "y = range(10)\n",
    "y"
   ]
  },
  {
   "cell_type": "code",
   "execution_count": 45,
   "metadata": {},
   "outputs": [
    {
     "data": {
      "text/plain": [
       "[0, 1, 4, 9, 16, 25, 36, 49, 64, 81]"
      ]
     },
     "execution_count": 45,
     "metadata": {},
     "output_type": "execute_result"
    }
   ],
   "source": [
    "squared_nums = [x ** 2 for x in range(10)]\n",
    "squared_nums"
   ]
  },
  {
   "cell_type": "code",
   "execution_count": null,
   "id": "6b59658f",
   "metadata": {},
   "outputs": [],
   "source": []
  },
  {
   "cell_type": "code",
   "execution_count": null,
   "id": "ab178223",
   "metadata": {},
   "outputs": [],
   "source": []
  }
 ],
 "metadata": {
  "kernelspec": {
   "display_name": "venv",
   "language": "python",
   "name": "python3"
  },
  "language_info": {
   "codemirror_mode": {
    "name": "ipython",
    "version": 3
   },
   "file_extension": ".py",
   "mimetype": "text/x-python",
   "name": "python",
   "nbconvert_exporter": "python",
   "pygments_lexer": "ipython3",
   "version": "3.11.9"
  }
 },
 "nbformat": 4,
 "nbformat_minor": 5
}
