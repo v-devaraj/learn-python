{
 "cells": [
  {
   "cell_type": "markdown",
   "id": "1bf92f24",
   "metadata": {},
   "source": [
    "## Python Internal Working"
   ]
  },
  {
   "cell_type": "markdown",
   "id": "4b40ea1d",
   "metadata": {},
   "source": [
    "### Integers"
   ]
  },
  {
   "cell_type": "code",
   "execution_count": 2,
   "id": "94a4499a",
   "metadata": {},
   "outputs": [
    {
     "name": "stdout",
     "output_type": "stream",
     "text": [
      "6\n",
      "5\n"
     ]
    }
   ],
   "source": [
    "a = 5\n",
    "b = a\n",
    "a = 6\n",
    "print(a, b, sep = \"\\n\")"
   ]
  },
  {
   "cell_type": "markdown",
   "id": "d17b6b40",
   "metadata": {},
   "source": [
    "- Here initially both a and b points to the same memory location where '5' is stored.\n",
    "- Later reference of 'a' is changed and then re-refferred to '6'\n",
    "- Hence now 'a' points towards 6 and 'b' points towards 5"
   ]
  },
  {
   "cell_type": "markdown",
   "id": "1cc75646",
   "metadata": {},
   "source": [
    "### Lists"
   ]
  },
  {
   "cell_type": "code",
   "execution_count": 3,
   "metadata": {},
   "outputs": [
    {
     "name": "stdout",
     "output_type": "stream",
     "text": [
      "[100, 2, 3]\n",
      "[100, 2, 3]\n"
     ]
    }
   ],
   "source": [
    "l1 = [1, 2, 3]\n",
    "l2 = l1\n",
    "l1[0] = 100\n",
    "print(l1, l2, sep = \"\\n\")"
   ]
  },
  {
   "cell_type": "markdown",
   "id": "df9cb39f",
   "metadata": {},
   "source": [
    "- l1 points to the reference for the list [1, 2, 3] saved in the memory\n",
    "- l2 is also made to point to the reference\n",
    "- now when we change l1, the list changes for both l1 and l2"
   ]
  },
  {
   "cell_type": "code",
   "execution_count": 4,
   "metadata": {},
   "outputs": [
    {
     "name": "stdout",
     "output_type": "stream",
     "text": [
      "[100, 2, 3]\n",
      "[1, 2, 3]\n"
     ]
    }
   ],
   "source": [
    "l1 = [1, 2, 3]\n",
    "l2 = l1\n",
    "l1 = [1, 2, 3]\n",
    "l1[0] = 100\n",
    "print(l1, l2, sep = \"\\n\")"
   ]
  },
  {
   "cell_type": "markdown",
   "id": "9907e45b",
   "metadata": {},
   "source": [
    "- l1 points to the reference for the list [1, 2, 3] saved in the memory\n",
    "- l2 is also made to point to the reference\n",
    "- now when we write specific hard code and mention l1 = [1, 2, 3], python will let l1 point to a different memory location having a list stored as [1, 2, 3].\n",
    "- Note that though we already have a similar list to where l2 is pointing, here python make a similar list at a different location in the memory for l1. Reason is list is a mutable data set and hence this behaviour is seen."
   ]
  },
  {
   "cell_type": "code",
   "execution_count": 5,
   "id": "d7bb7255",
   "metadata": {},
   "outputs": [
    {
     "name": "stdout",
     "output_type": "stream",
     "text": [
      "[100, 2, 3]\n",
      "[1, 2, 3]\n"
     ]
    }
   ],
   "source": [
    "l1 = [1, 2, 3]\n",
    "l2 = l1[:]\n",
    "l1[0] = 100\n",
    "print(l1, l2, sep = \"\\n\")"
   ]
  },
  {
   "cell_type": "markdown",
   "id": "01f81baa",
   "metadata": {},
   "source": [
    "- this means slicing results in the creation of a copy and hence l2 points to a different memory location where this copy of l1 is stored.\n",
    "- Note that similar copy operation can be done using other methods other than slicing, as shown below."
   ]
  },
  {
   "cell_type": "code",
   "execution_count": 6,
   "id": "79829894",
   "metadata": {},
   "outputs": [
    {
     "name": "stdout",
     "output_type": "stream",
     "text": [
      "[100, 2, 3]\n",
      "[1, 2, 3]\n"
     ]
    }
   ],
   "source": [
    "import copy\n",
    "l1 = [1, 2, 3]\n",
    "l2 = copy.copy(l1)\n",
    "l1[0] = 100\n",
    "print(l1, l2, sep = \"\\n\")"
   ]
  },
  {
   "cell_type": "markdown",
   "id": "fa56b081",
   "metadata": {},
   "source": [
    "- There is another thing called 'deepcopy' within copy library.\n",
    "- Copy just helps in bringing a copy of a list or something.\n",
    "- But to get say, a list within a list, we need to use deepcopy, as shown below"
   ]
  },
  {
   "cell_type": "code",
   "execution_count": 9,
   "id": "10d406cc",
   "metadata": {},
   "outputs": [
    {
     "name": "stdout",
     "output_type": "stream",
     "text": [
      "[100, 2, 3, [5, 6, 7]]\n",
      "[1, 2, 3, [5, 6, 7]]\n"
     ]
    }
   ],
   "source": [
    "l1 = [1, 2, 3, [5, 6, 7]]\n",
    "l2 = copy.deepcopy(l1)\n",
    "l1[0] = 100\n",
    "print(l1, l2, sep = \"\\n\")"
   ]
  },
  {
   "cell_type": "markdown",
   "id": "5e8ab811",
   "metadata": {},
   "source": [
    "### Comparison"
   ]
  },
  {
   "cell_type": "code",
   "execution_count": 11,
   "metadata": {},
   "outputs": [
    {
     "name": "stdout",
     "output_type": "stream",
     "text": [
      "[1, 2, 3]\n",
      "[1, 2, 3]\n",
      "True\n"
     ]
    }
   ],
   "source": [
    "n = [1, 2, 3]\n",
    "m = n\n",
    "print(m, n, sep = \"\\n\")\n",
    "print(m == n)"
   ]
  },
  {
   "cell_type": "markdown",
   "id": "899afe00",
   "metadata": {},
   "source": [
    "- Here m==n, checks if the values of m and n are same.\n",
    "- Where as **m is n** checks if both has the same memory reference object, as shown below"
   ]
  },
  {
   "cell_type": "code",
   "execution_count": 12,
   "id": "3ac38bd2",
   "metadata": {},
   "outputs": [
    {
     "name": "stdout",
     "output_type": "stream",
     "text": [
      "[1, 2, 3]\n",
      "[1, 2, 3]\n",
      "True\n"
     ]
    }
   ],
   "source": [
    "n = [1, 2, 3]\n",
    "m = n\n",
    "print(m, n, sep = \"\\n\")\n",
    "print(m is n)"
   ]
  },
  {
   "cell_type": "markdown",
   "id": "a61975d6",
   "metadata": {},
   "source": [
    "- But let us check a different situation, as below:"
   ]
  },
  {
   "cell_type": "code",
   "execution_count": 13,
   "id": "0d87696e",
   "metadata": {},
   "outputs": [
    {
     "name": "stdout",
     "output_type": "stream",
     "text": [
      "[1, 2, 3]\n",
      "[1, 2, 3]\n",
      "True\n",
      "False\n"
     ]
    }
   ],
   "source": [
    "m = [1, 2, 3]\n",
    "n = [1, 2, 3]\n",
    "print(m, n, sep = \"\\n\")\n",
    "print(m == n)\n",
    "print(m is n)"
   ]
  },
  {
   "cell_type": "markdown",
   "id": "89e43941",
   "metadata": {},
   "source": [
    "- Why it is showing this result?\n",
    "    - As discussed earlier, both m and n point to different memory references, where similar list of [1, 2, 3] is saved.\n",
    "    - Hence both are saving the same value => print(m == n) = True, means they have the same value\n",
    "    - But as they refer to different memory locations, print(m is n) says False"
   ]
  }
 ],
 "metadata": {
  "kernelspec": {
   "display_name": "Python (env)",
   "language": "python",
   "name": "env"
  },
  "language_info": {
   "codemirror_mode": {
    "name": "ipython",
    "version": 3
   },
   "file_extension": ".py",
   "mimetype": "text/x-python",
   "name": "python",
   "nbconvert_exporter": "python",
   "pygments_lexer": "ipython3",
   "version": "3.11.9"
  }
 },
 "nbformat": 4,
 "nbformat_minor": 5
}
