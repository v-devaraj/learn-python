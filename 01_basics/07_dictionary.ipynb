{
 "cells": [
  {
   "cell_type": "markdown",
   "id": "39e094dc",
   "metadata": {},
   "source": [
    "# Dictionary"
   ]
  },
  {
   "cell_type": "code",
   "execution_count": 1,
   "id": "d358b802",
   "metadata": {},
   "outputs": [
    {
     "data": {
      "text/plain": [
       "{'Masala': 'Spicy', 'Ginger': 'Zesty', 'Green': 'Mild'}"
      ]
     },
     "execution_count": 1,
     "metadata": {},
     "output_type": "execute_result"
    }
   ],
   "source": [
    "chai_types = {  'Masala': 'Spicy',\n",
    "                'Ginger': 'Zesty',\n",
    "                'Green': 'Mild'}\n",
    "\n",
    "chai_types"
   ]
  },
  {
   "cell_type": "code",
   "execution_count": 2,
   "id": "c152ac18",
   "metadata": {},
   "outputs": [
    {
     "data": {
      "text/plain": [
       "'Spicy'"
      ]
     },
     "execution_count": 2,
     "metadata": {},
     "output_type": "execute_result"
    }
   ],
   "source": [
    "chai_types['Masala']"
   ]
  },
  {
   "cell_type": "code",
   "execution_count": 3,
   "metadata": {},
   "outputs": [
    {
     "data": {
      "text/plain": [
       "'Spicy'"
      ]
     },
     "execution_count": 3,
     "metadata": {},
     "output_type": "execute_result"
    }
   ],
   "source": [
    "chai_types.get(\"Masala\")"
   ]
  },
  {
   "cell_type": "code",
   "execution_count": 6,
   "id": "63fe40ac",
   "metadata": {},
   "outputs": [
    {
     "ename": "KeyError",
     "evalue": "'Masal'",
     "output_type": "error",
     "traceback": [
      "\u001b[31m---------------------------------------------------------------------------\u001b[39m",
      "\u001b[31mKeyError\u001b[39m                                  Traceback (most recent call last)",
      "\u001b[36mCell\u001b[39m\u001b[36m \u001b[39m\u001b[32mIn[6]\u001b[39m\u001b[32m, line 1\u001b[39m\n\u001b[32m----> \u001b[39m\u001b[32m1\u001b[39m \u001b[43mchai_types\u001b[49m\u001b[43m[\u001b[49m\u001b[33;43m'\u001b[39;49m\u001b[33;43mMasal\u001b[39;49m\u001b[33;43m'\u001b[39;49m\u001b[43m]\u001b[49m \u001b[38;5;66;03m# wrong key will give an error\u001b[39;00m\n",
      "\u001b[31mKeyError\u001b[39m: 'Masal'"
     ]
    }
   ],
   "source": [
    "chai_types['Masal'] # wrong key will give an error"
   ]
  },
  {
   "cell_type": "code",
   "execution_count": 7,
   "id": "b85e5179",
   "metadata": {},
   "outputs": [],
   "source": [
    "chai_types.get('Masal') # Nothing is returned"
   ]
  },
  {
   "cell_type": "code",
   "execution_count": 8,
   "id": "25240307",
   "metadata": {},
   "outputs": [
    {
     "data": {
      "text/plain": [
       "'Not available'"
      ]
     },
     "execution_count": 8,
     "metadata": {},
     "output_type": "execute_result"
    }
   ],
   "source": [
    "chai_types.get(\"dudu\", \"Not available\")"
   ]
  },
  {
   "cell_type": "code",
   "execution_count": 9,
   "id": "eb16fa23",
   "metadata": {},
   "outputs": [
    {
     "data": {
      "text/plain": [
       "{'Masala': 'Spicy', 'Ginger': 'Zesty', 'Green': 'Fresh'}"
      ]
     },
     "execution_count": 9,
     "metadata": {},
     "output_type": "execute_result"
    }
   ],
   "source": [
    "chai_types['Green'] = 'Fresh'\n",
    "chai_types"
   ]
  },
  {
   "cell_type": "markdown",
   "id": "61adc088",
   "metadata": {},
   "source": [
    "## Looping"
   ]
  },
  {
   "cell_type": "code",
   "execution_count": 10,
   "metadata": {},
   "outputs": [
    {
     "name": "stdout",
     "output_type": "stream",
     "text": [
      "Masala\n",
      "Ginger\n",
      "Green\n"
     ]
    }
   ],
   "source": [
    "for i in chai_types:\n",
    "    print(i)"
   ]
  },
  {
   "cell_type": "code",
   "execution_count": 12,
   "id": "ced78f18",
   "metadata": {},
   "outputs": [
    {
     "name": "stdout",
     "output_type": "stream",
     "text": [
      "Masala\n",
      "Ginger\n",
      "Green\n"
     ]
    }
   ],
   "source": [
    "for i in chai_types.keys():\n",
    "    print(i)"
   ]
  },
  {
   "cell_type": "code",
   "execution_count": 13,
   "id": "5d3d82d3",
   "metadata": {},
   "outputs": [
    {
     "name": "stdout",
     "output_type": "stream",
     "text": [
      "Spicy\n",
      "Zesty\n",
      "Fresh\n"
     ]
    }
   ],
   "source": [
    "for i in chai_types.values():\n",
    "    print(i)"
   ]
  },
  {
   "cell_type": "code",
   "execution_count": 11,
   "metadata": {},
   "outputs": [
    {
     "name": "stdout",
     "output_type": "stream",
     "text": [
      "Masala Spicy\n",
      "Ginger Zesty\n",
      "Green Fresh\n"
     ]
    }
   ],
   "source": [
    "for key, value in chai_types.items():\n",
    "    print(key, value)\n"
   ]
  },
  {
   "cell_type": "code",
   "execution_count": 15,
   "id": "f4a5bb95",
   "metadata": {},
   "outputs": [
    {
     "name": "stdout",
     "output_type": "stream",
     "text": [
      "Masala->Spicy\n",
      "Ginger->Zesty\n",
      "Green->Fresh\n"
     ]
    }
   ],
   "source": [
    "for key in chai_types:\n",
    "    print(key, chai_types[key], sep = '->')"
   ]
  },
  {
   "cell_type": "code",
   "execution_count": 16,
   "id": "54fef9a5",
   "metadata": {},
   "outputs": [
    {
     "name": "stdout",
     "output_type": "stream",
     "text": [
      "True\n"
     ]
    }
   ],
   "source": [
    "print('Masala' in chai_types.keys())"
   ]
  },
  {
   "cell_type": "code",
   "execution_count": 17,
   "id": "1a00b033",
   "metadata": {},
   "outputs": [
    {
     "name": "stdout",
     "output_type": "stream",
     "text": [
      "Yes\n"
     ]
    }
   ],
   "source": [
    "if 'Masala' in chai_types:\n",
    "    print('Yes')\n",
    "else:\n",
    "    print('No')"
   ]
  },
  {
   "cell_type": "code",
   "execution_count": 18,
   "id": "969318cb",
   "metadata": {},
   "outputs": [
    {
     "name": "stdout",
     "output_type": "stream",
     "text": [
      "3\n"
     ]
    }
   ],
   "source": [
    "print(len(chai_types))"
   ]
  },
  {
   "cell_type": "code",
   "execution_count": 19,
   "id": "202e868b",
   "metadata": {},
   "outputs": [
    {
     "data": {
      "text/plain": [
       "{'Masala': 'Spicy', 'Ginger': 'Zesty', 'Green': 'Fresh'}"
      ]
     },
     "execution_count": 19,
     "metadata": {},
     "output_type": "execute_result"
    }
   ],
   "source": [
    "chai_types"
   ]
  },
  {
   "cell_type": "code",
   "execution_count": 20,
   "id": "7efeace5",
   "metadata": {},
   "outputs": [
    {
     "data": {
      "text/plain": [
       "{'Masala': 'Spicy', 'Ginger': 'Zesty', 'Green': 'Fresh', 'Earl Grey': 'Citrus'}"
      ]
     },
     "execution_count": 20,
     "metadata": {},
     "output_type": "execute_result"
    }
   ],
   "source": [
    "chai_types['Earl Grey'] = 'Citrus'\n",
    "chai_types"
   ]
  },
  {
   "cell_type": "markdown",
   "id": "78e9ae09",
   "metadata": {},
   "source": [
    "## Deleting"
   ]
  },
  {
   "cell_type": "markdown",
   "id": "fae8e1c2",
   "metadata": {},
   "source": [
    "- pop opration in dictionaries will need an input, key_value\n",
    "- In list, pop does not require any arguments, but here it needs as there is no order in dictionary as is the case with list"
   ]
  },
  {
   "cell_type": "code",
   "execution_count": 21,
   "metadata": {},
   "outputs": [
    {
     "data": {
      "text/plain": [
       "'Fresh'"
      ]
     },
     "execution_count": 21,
     "metadata": {},
     "output_type": "execute_result"
    }
   ],
   "source": [
    "#   pop method\n",
    "chai_types.pop('Green')"
   ]
  },
  {
   "cell_type": "code",
   "execution_count": 22,
   "id": "5dfeadf7",
   "metadata": {},
   "outputs": [
    {
     "data": {
      "text/plain": [
       "{'Masala': 'Spicy', 'Ginger': 'Zesty', 'Earl Grey': 'Citrus'}"
      ]
     },
     "execution_count": 22,
     "metadata": {},
     "output_type": "execute_result"
    }
   ],
   "source": [
    "chai_types"
   ]
  },
  {
   "cell_type": "code",
   "execution_count": 24,
   "metadata": {},
   "outputs": [
    {
     "data": {
      "text/plain": [
       "('Earl Grey', 'Citrus')"
      ]
     },
     "execution_count": 24,
     "metadata": {},
     "output_type": "execute_result"
    }
   ],
   "source": [
    "chai_types.popitem()"
   ]
  },
  {
   "cell_type": "code",
   "execution_count": 25,
   "id": "13125b37",
   "metadata": {},
   "outputs": [
    {
     "data": {
      "text/plain": [
       "{'Masala': 'Spicy', 'Ginger': 'Zesty'}"
      ]
     },
     "execution_count": 25,
     "metadata": {},
     "output_type": "execute_result"
    }
   ],
   "source": [
    "chai_types"
   ]
  },
  {
   "cell_type": "code",
   "execution_count": 26,
   "metadata": {},
   "outputs": [],
   "source": [
    "# del\n",
    "del chai_types['Ginger']"
   ]
  },
  {
   "cell_type": "code",
   "execution_count": 27,
   "metadata": {},
   "outputs": [
    {
     "data": {
      "text/plain": [
       "{'Masala': 'Spicy'}"
      ]
     },
     "execution_count": 27,
     "metadata": {},
     "output_type": "execute_result"
    }
   ],
   "source": [
    "chai_types"
   ]
  },
  {
   "cell_type": "code",
   "execution_count": 28,
   "metadata": {},
   "outputs": [
    {
     "data": {
      "text/plain": [
       "{'Masala': 'Spicy', 'Ginger': 'Zesty', 'Green': 'Mild'}"
      ]
     },
     "execution_count": 28,
     "metadata": {},
     "output_type": "execute_result"
    }
   ],
   "source": [
    "chai_types = {  'Masala': 'Spicy',\n",
    "                'Ginger': 'Zesty',\n",
    "                'Green': 'Mild'}\n",
    "\n",
    "chai_types"
   ]
  },
  {
   "cell_type": "code",
   "execution_count": 29,
   "id": "eeb5d6d0",
   "metadata": {},
   "outputs": [],
   "source": [
    "chai_types_copy = chai_types.copy()"
   ]
  },
  {
   "cell_type": "code",
   "execution_count": 30,
   "id": "ae4521da",
   "metadata": {},
   "outputs": [
    {
     "data": {
      "text/plain": [
       "{'Chai': {'Masala': 'Spicy', 'Ginger': 'Zesty'},\n",
       " 'Tea': {'Green': 'Mild', 'Black': 'Strong'}}"
      ]
     },
     "execution_count": 30,
     "metadata": {},
     "output_type": "execute_result"
    }
   ],
   "source": [
    "tea_shop = {\n",
    "             'Chai':{  'Masala': 'Spicy',\n",
    "                        'Ginger': 'Zesty'},\n",
    "             'Tea': {   'Green': 'Mild',\n",
    "                        'Black': 'Strong'}\n",
    "            }\n",
    "tea_shop"
   ]
  },
  {
   "cell_type": "code",
   "execution_count": null,
   "id": "aef6a817",
   "metadata": {},
   "outputs": [
    {
     "data": {
      "text/plain": [
       "{'Masala': 'Spicy', 'Ginger': 'Zesty'}"
      ]
     },
     "execution_count": 31,
     "metadata": {},
     "output_type": "execute_result"
    }
   ],
   "source": [
    "tea_shop['Chai']"
   ]
  },
  {
   "cell_type": "code",
   "execution_count": 32,
   "id": "9f83a6aa",
   "metadata": {},
   "outputs": [
    {
     "data": {
      "text/plain": [
       "'Zesty'"
      ]
     },
     "execution_count": 32,
     "metadata": {},
     "output_type": "execute_result"
    }
   ],
   "source": [
    "tea_shop['Chai']['Ginger']"
   ]
  },
  {
   "cell_type": "markdown",
   "id": "45126c34",
   "metadata": {},
   "source": [
    "## Comprehension"
   ]
  },
  {
   "cell_type": "code",
   "execution_count": 33,
   "id": "194a7d62",
   "metadata": {},
   "outputs": [
    {
     "data": {
      "text/plain": [
       "{0: 0, 1: 1, 2: 4, 3: 9, 4: 16, 5: 25, 6: 36, 7: 49, 8: 64, 9: 81}"
      ]
     },
     "execution_count": 33,
     "metadata": {},
     "output_type": "execute_result"
    }
   ],
   "source": [
    "squared_num = {x : x ** 2 for x in range(10)}\n",
    "squared_num"
   ]
  },
  {
   "cell_type": "code",
   "execution_count": 34,
   "id": "a4d52058",
   "metadata": {},
   "outputs": [],
   "source": [
    "# To remove all values from the dictionary:\n",
    "squared_num.clear()"
   ]
  },
  {
   "cell_type": "code",
   "execution_count": 35,
   "id": "3c16888a",
   "metadata": {},
   "outputs": [
    {
     "data": {
      "text/plain": [
       "{}"
      ]
     },
     "execution_count": 35,
     "metadata": {},
     "output_type": "execute_result"
    }
   ],
   "source": [
    "squared_num"
   ]
  },
  {
   "cell_type": "markdown",
   "id": "3221ccc7",
   "metadata": {},
   "source": [
    "## Creating a dictionary from two lists:"
   ]
  },
  {
   "cell_type": "code",
   "execution_count": 36,
   "id": "6c8b9240",
   "metadata": {},
   "outputs": [
    {
     "data": {
      "text/plain": [
       "['Masala', 'Ginger', 'Lemon']"
      ]
     },
     "execution_count": 36,
     "metadata": {},
     "output_type": "execute_result"
    }
   ],
   "source": [
    "keys = ['Masala', 'Ginger', 'Lemon']\n",
    "keys"
   ]
  },
  {
   "cell_type": "code",
   "execution_count": null,
   "metadata": {},
   "outputs": [
    {
     "data": {
      "text/plain": [
       "{'Masala': 'Delicious', 'Ginger': 'Delicious', 'Lemon': 'Delicious'}"
      ]
     },
     "execution_count": 40,
     "metadata": {},
     "output_type": "execute_result"
    }
   ],
   "source": [
    "default_value = 'Delicious'\n",
    "new_dict = dict.fromkeys(keys, default_value)\n",
    "print(new_dict)"
   ]
  },
  {
   "cell_type": "code",
   "execution_count": 42,
   "id": "8b6c9287",
   "metadata": {},
   "outputs": [
    {
     "data": {
      "text/plain": [
       "{'Masala': None, 'Ginger': None, 'Lemon': None}"
      ]
     },
     "execution_count": 42,
     "metadata": {},
     "output_type": "execute_result"
    }
   ],
   "source": [
    "new_dict1 = dict.fromkeys(keys)\n",
    "new_dict1"
   ]
  },
  {
   "cell_type": "code",
   "execution_count": null,
   "id": "d573cd4f",
   "metadata": {},
   "outputs": [],
   "source": []
  },
  {
   "cell_type": "code",
   "execution_count": null,
   "id": "5c177842",
   "metadata": {},
   "outputs": [],
   "source": []
  },
  {
   "cell_type": "code",
   "execution_count": null,
   "id": "76accc79",
   "metadata": {},
   "outputs": [],
   "source": []
  },
  {
   "cell_type": "code",
   "execution_count": null,
   "id": "bcd0d6ac",
   "metadata": {},
   "outputs": [],
   "source": []
  },
  {
   "cell_type": "code",
   "execution_count": null,
   "id": "c2eff9e7",
   "metadata": {},
   "outputs": [],
   "source": []
  }
 ],
 "metadata": {
  "kernelspec": {
   "display_name": "venv",
   "language": "python",
   "name": "python3"
  },
  "language_info": {
   "codemirror_mode": {
    "name": "ipython",
    "version": 3
   },
   "file_extension": ".py",
   "mimetype": "text/x-python",
   "name": "python",
   "nbconvert_exporter": "python",
   "pygments_lexer": "ipython3",
   "version": "3.11.9"
  }
 },
 "nbformat": 4,
 "nbformat_minor": 5
}
